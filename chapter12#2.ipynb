{
 "cells": [
  {
   "cell_type": "code",
   "execution_count": null,
   "id": "f402ad46-2ed8-4820-98df-41165fca9b1c",
   "metadata": {},
   "outputs": [],
   "source": [
    "import pandas as pd\n",
    "from sklearn.model_selection import train_test_split\n",
    "from sklearn.preprocessing import StandardScaler\n",
    "from sklearn.linear_model import LogisticRegression\n",
    "df = pd.read_csv('iris.csv')\n",
    "df.head()"
   ]
  },
  {
   "cell_type": "code",
   "execution_count": null,
   "id": "55cdcd48-8b71-46f2-ab59-c7b410213956",
   "metadata": {},
   "outputs": [],
   "source": [
    "train_val, test = train_test_split(df, test_size=0.2, random_state=0)"
   ]
  },
  {
   "cell_type": "code",
   "execution_count": null,
   "id": "e79e37ae-22fd-49ed-b039-a7fba7711fe9",
   "metadata": {},
   "outputs": [],
   "source": [
    "train_val.isnull().sum()"
   ]
  },
  {
   "cell_type": "code",
   "execution_count": null,
   "id": "b7aa5cf0-1be3-427c-a807-6efcc3b0025a",
   "metadata": {
    "scrolled": true
   },
   "outputs": [],
   "source": [
    "train_val = train_val.fillna(train_val.mean(numeric_only=True))\n",
    "x = train_val.drop(columns='種類')\n",
    "t = train_val['種類']\n",
    "x_train, x_val, y_train, y_val = train_test_split(x, t ,random_state=0, test_size=0.3)\n",
    "sc = StandardScaler()\n",
    "sc_x_train = sc.fit_transform(x_train)\n",
    "sc_x_val = sc.fit_transform(x_val)"
   ]
  },
  {
   "cell_type": "code",
   "execution_count": null,
   "id": "500577ba-6958-49dd-897a-59cadf712c06",
   "metadata": {},
   "outputs": [],
   "source": [
    "model = LogisticRegression(random_state = 0, C = 0.1, solver = 'lbfgs')\n",
    "model.fit(x_train, y_train)\n",
    "print(model.score(x_train, y_train))\n",
    "print(model.score(x_val, y_val))"
   ]
  },
  {
   "cell_type": "code",
   "execution_count": null,
   "id": "d54bc0aa-cabf-4743-af37-286edb2433f7",
   "metadata": {},
   "outputs": [],
   "source": [
    "model.coef_"
   ]
  },
  {
   "cell_type": "code",
   "execution_count": null,
   "id": "fde5c7c8-46c0-4d7f-8fae-4bea6bb38e3c",
   "metadata": {},
   "outputs": [],
   "source": [
    "x_new = pd.DataFrame([[1,2,3,4]], columns=x.columns)\n",
    "model.predict(x_new)"
   ]
  },
  {
   "cell_type": "code",
   "execution_count": null,
   "id": "ea6b09a9-7dc5-4106-82ef-b5efea3243b2",
   "metadata": {},
   "outputs": [],
   "source": [
    "model.predict_proba(x_new)\n",
    "\n",
    "import pandas as pd\n",
    "from sklearn.model_selection import train_test_split\n",
    "%matplotlib inline\n",
    "\n",
    "df = pd.read_csv('Survived.csv')\n",
    "df.head(2)"
   ]
  },
  {
   "cell_type": "code",
   "execution_count": null,
   "id": "064bf670-2e86-483d-a2cc-94557c044dd4",
   "metadata": {},
   "outputs": [],
   "source": [
    "df.isnull().sum()"
   ]
  },
  {
   "cell_type": "code",
   "execution_count": null,
   "id": "49fb1fe1-bb1b-4714-a922-379b6df95852",
   "metadata": {
    "scrolled": true
   },
   "outputs": [],
   "source": [
    "df.pivot_table(index='Pclass', columns='Survived', values='Age')"
   ]
  },
  {
   "cell_type": "code",
   "execution_count": null,
   "id": "2bbde479-c45e-4f62-84ce-6bac7a8eb20b",
   "metadata": {},
   "outputs": [],
   "source": [
    "is_null = df['Age'].isnull()\n",
    "\n",
    "condition1 = df['Survived']==0\n",
    "condition2 = df['Pclass']==1\n",
    "df.loc[(is_null)&(condition1)&(condition2), 'Age'] = 44\n",
    "\n",
    "condition2 = df['Pclass']==2\n",
    "df.loc[(is_null)&(condition1)&(condition2), 'Age'] = 34\n",
    "\n",
    "condition2 = df['Pclass']==3\n",
    "df.loc[(is_null)&(condition1)&(condition2), 'Age'] = 27\n",
    "\n",
    "condition1 = df['Survived']==1\n",
    "condition2 = df['Pclass']==1\n",
    "df.loc[(is_null)&(condition1)&(condition2), 'Age'] = 35\n",
    "\n",
    "condition2 = df['Pclass']==2\n",
    "df.loc[(is_null)&(condition1)&(condition2), 'Age'] = 26\n",
    "\n",
    "condition2 = df['Pclass']==3\n",
    "df.loc[(is_null)&(condition1)&(condition2), 'Age'] = 21"
   ]
  },
  {
   "cell_type": "code",
   "execution_count": null,
   "id": "bc18dd2b-aedd-47cd-af10-70821c682f79",
   "metadata": {},
   "outputs": [],
   "source": [
    "col = ['Pclass', 'Age', 'SibSp', 'Parch', 'Fare']\n",
    "\n",
    "x = df[col]\n",
    "t = df['Survived']\n",
    "\n",
    "dummy = pd.get_dummies(df['Sex'], drop_first = True, dtype = int)\n",
    "x = pd.concat([x,dummy], axis=1)\n",
    "x.head(2)"
   ]
  },
  {
   "cell_type": "code",
   "execution_count": null,
   "id": "c100720f-00f6-499b-a819-47f305aa8b89",
   "metadata": {},
   "outputs": [],
   "source": [
    "x_train, x_test, y_train, y_test = train_test_split(x,t,random_state=0, test_size=0.2)\n",
    "from sklearn.ensemble import RandomForestClassifier\n",
    "model = RandomForestClassifier(n_estimators=200, random_state=0)\n",
    "model.fit(x_train, y_train)\n",
    "print(model.score(x_train, y_train))\n",
    "print(model.score(x_test, y_test))"
   ]
  },
  {
   "cell_type": "code",
   "execution_count": null,
   "id": "79ced2cf-8cfd-4630-a783-20b95d45b0c0",
   "metadata": {},
   "outputs": [],
   "source": [
    "from sklearn import tree\n",
    "nomal_model = tree.DecisionTreeClassifier()\n",
    "\n",
    "nomal_model.fit(x_train, y_train)\n",
    "\n",
    "print(nomal_model.score(x_train, y_train))\n",
    "print(nomal_model.score(x_test, y_test))"
   ]
  },
  {
   "cell_type": "code",
   "execution_count": null,
   "id": "ba8aba49-bd59-47a2-be60-659ceed12c06",
   "metadata": {},
   "outputs": [],
   "source": [
    "importance = model.feature_importances_\n",
    "pd.Series(importance, index=x.columns)"
   ]
  },
  {
   "cell_type": "code",
   "execution_count": null,
   "id": "0ffcbda3-da07-44a4-b34c-8f73966114ef",
   "metadata": {},
   "outputs": [],
   "source": [
    "from sklearn.ensemble import AdaBoostClassifier\n",
    "\n",
    "base_model = tree.DecisionTreeClassifier(random_state=0, max_depth=5)\n",
    "\n",
    "model = AdaBoostClassifier(n_estimators=500, random_state=0, estimator=base_model, algorithm='SAMME')\n",
    "\n",
    "model.fit(x_train, y_train)"
   ]
  },
  {
   "cell_type": "code",
   "execution_count": null,
   "id": "46dbcd2b-460a-4aa9-a761-582b0e58b05d",
   "metadata": {},
   "outputs": [],
   "source": [
    "cinema_df = pd.read_csv('cinema.csv')\n",
    "cinema_df.head(2)"
   ]
  },
  {
   "cell_type": "code",
   "execution_count": null,
   "id": "0ca42787-cb40-4b08-a57d-654bbf2498e3",
   "metadata": {},
   "outputs": [],
   "source": [
    "cinema_df.isnull().sum()"
   ]
  },
  {
   "cell_type": "code",
   "execution_count": null,
   "id": "db57a9e7-ee8b-444c-9ba7-3ebae5f10cc7",
   "metadata": {},
   "outputs": [],
   "source": [
    "from sklearn.ensemble import RandomForestRegressor\n",
    "cinema_df = cinema_df.fillna(cinema_df.sum())\n",
    "x = cinema_df.drop(columns=['cinema_id','sales'])\n",
    "t = cinema_df['sales']\n",
    "\n",
    "x_train, x_test, y_train, y_test = train_test_split(x, t, random_state=0, test_size=0.2)\n",
    "\n",
    "model = RandomForestRegressor()\n",
    "model.fit(x_train, y_train)\n",
    "model.score(x_test, y_test)"
   ]
  },
  {
   "cell_type": "code",
   "execution_count": null,
   "id": "476bd79f-39b2-4338-8632-348af582c0d3",
   "metadata": {},
   "outputs": [],
   "source": [
    "from sklearn.ensemble import AdaBoostRegressor\n",
    "model = RandomForestRegressor(n_estimators=200, random_state=0)\n",
    "model2 = AdaBoostRegressor(n_estimators=500, random_state=0, estimator=model)\n",
    "model2.fit(x_train, y_train)\n",
    "model2.score(x_test, y_test)"
   ]
  }
 ],
 "metadata": {
  "kernelspec": {
   "display_name": "Python 3 (ipykernel)",
   "language": "python",
   "name": "python3"
  },
  "language_info": {
   "codemirror_mode": {
    "name": "ipython",
    "version": 3
   },
   "file_extension": ".py",
   "mimetype": "text/x-python",
   "name": "python",
   "nbconvert_exporter": "python",
   "pygments_lexer": "ipython3",
   "version": "3.12.4"
  }
 },
 "nbformat": 4,
 "nbformat_minor": 5
}
