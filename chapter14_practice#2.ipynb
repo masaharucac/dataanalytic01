{
 "cells": [
  {
   "cell_type": "code",
   "execution_count": 14,
   "id": "2d45fdc8-6890-4aa4-ba9a-6f9ec365833d",
   "metadata": {},
   "outputs": [
    {
     "data": {
      "text/html": [
       "<div>\n",
       "<style scoped>\n",
       "    .dataframe tbody tr th:only-of-type {\n",
       "        vertical-align: middle;\n",
       "    }\n",
       "\n",
       "    .dataframe tbody tr th {\n",
       "        vertical-align: top;\n",
       "    }\n",
       "\n",
       "    .dataframe thead th {\n",
       "        text-align: right;\n",
       "    }\n",
       "</style>\n",
       "<table border=\"1\" class=\"dataframe\">\n",
       "  <thead>\n",
       "    <tr style=\"text-align: right;\">\n",
       "      <th></th>\n",
       "      <th>SNS1</th>\n",
       "      <th>SNS2</th>\n",
       "      <th>actor</th>\n",
       "      <th>original</th>\n",
       "      <th>sales</th>\n",
       "    </tr>\n",
       "  </thead>\n",
       "  <tbody>\n",
       "    <tr>\n",
       "      <th>0</th>\n",
       "      <td>291.0</td>\n",
       "      <td>1044</td>\n",
       "      <td>8808.994029</td>\n",
       "      <td>0</td>\n",
       "      <td>9731</td>\n",
       "    </tr>\n",
       "    <tr>\n",
       "      <th>1</th>\n",
       "      <td>363.0</td>\n",
       "      <td>568</td>\n",
       "      <td>10290.709370</td>\n",
       "      <td>1</td>\n",
       "      <td>10210</td>\n",
       "    </tr>\n",
       "  </tbody>\n",
       "</table>\n",
       "</div>"
      ],
      "text/plain": [
       "    SNS1  SNS2         actor  original  sales\n",
       "0  291.0  1044   8808.994029         0   9731\n",
       "1  363.0   568  10290.709370         1  10210"
      ]
     },
     "execution_count": 14,
     "metadata": {},
     "output_type": "execute_result"
    }
   ],
   "source": [
    "import pandas as pd\n",
    "df = pd.read_csv('cinema.csv')\n",
    "df = df.drop(columns=['cinema_id'])\n",
    "df.head(2)"
   ]
  },
  {
   "cell_type": "code",
   "execution_count": 15,
   "id": "773f76a6-3c6c-4e3f-a39c-7090551fc6b5",
   "metadata": {},
   "outputs": [],
   "source": [
    "df = df.fillna(df.mean())\n",
    "\n",
    "from sklearn.preprocessing import StandardScaler\n",
    "sc = StandardScaler()"
   ]
  },
  {
   "cell_type": "code",
   "execution_count": 16,
   "id": "0f54d93a-927c-4763-8e50-a43981151ffc",
   "metadata": {},
   "outputs": [
    {
     "data": {
      "text/html": [
       "<div>\n",
       "<style scoped>\n",
       "    .dataframe tbody tr th:only-of-type {\n",
       "        vertical-align: middle;\n",
       "    }\n",
       "\n",
       "    .dataframe tbody tr th {\n",
       "        vertical-align: top;\n",
       "    }\n",
       "\n",
       "    .dataframe thead th {\n",
       "        text-align: right;\n",
       "    }\n",
       "</style>\n",
       "<table border=\"1\" class=\"dataframe\">\n",
       "  <thead>\n",
       "    <tr style=\"text-align: right;\">\n",
       "      <th></th>\n",
       "      <th>SNS1</th>\n",
       "      <th>SNS2</th>\n",
       "      <th>actor</th>\n",
       "      <th>original</th>\n",
       "      <th>sales</th>\n",
       "    </tr>\n",
       "  </thead>\n",
       "  <tbody>\n",
       "    <tr>\n",
       "      <th>0</th>\n",
       "      <td>-0.380071</td>\n",
       "      <td>1.196371</td>\n",
       "      <td>-0.704163</td>\n",
       "      <td>-1.0</td>\n",
       "      <td>-0.190425</td>\n",
       "    </tr>\n",
       "    <tr>\n",
       "      <th>1</th>\n",
       "      <td>-0.036880</td>\n",
       "      <td>-0.280899</td>\n",
       "      <td>0.330366</td>\n",
       "      <td>1.0</td>\n",
       "      <td>0.411923</td>\n",
       "    </tr>\n",
       "  </tbody>\n",
       "</table>\n",
       "</div>"
      ],
      "text/plain": [
       "       SNS1      SNS2     actor  original     sales\n",
       "0 -0.380071  1.196371 -0.704163      -1.0 -0.190425\n",
       "1 -0.036880 -0.280899  0.330366       1.0  0.411923"
      ]
     },
     "execution_count": 16,
     "metadata": {},
     "output_type": "execute_result"
    }
   ],
   "source": [
    "sc_df = sc.fit_transform(df)\n",
    "sc_df = pd.DataFrame(sc_df, columns=df.columns)\n",
    "sc_df.head(2)"
   ]
  },
  {
   "cell_type": "code",
   "execution_count": 23,
   "id": "fcefd2cc-e847-4549-8a25-0e0a2ff9d54a",
   "metadata": {},
   "outputs": [
    {
     "data": {
      "text/html": [
       "<div>\n",
       "<style scoped>\n",
       "    .dataframe tbody tr th:only-of-type {\n",
       "        vertical-align: middle;\n",
       "    }\n",
       "\n",
       "    .dataframe tbody tr th {\n",
       "        vertical-align: top;\n",
       "    }\n",
       "\n",
       "    .dataframe thead th {\n",
       "        text-align: right;\n",
       "    }\n",
       "</style>\n",
       "<table border=\"1\" class=\"dataframe\">\n",
       "  <thead>\n",
       "    <tr style=\"text-align: right;\">\n",
       "      <th></th>\n",
       "      <th>PC1</th>\n",
       "      <th>PC2</th>\n",
       "      <th>PC3</th>\n",
       "      <th>PC4</th>\n",
       "      <th>PC5</th>\n",
       "    </tr>\n",
       "  </thead>\n",
       "  <tbody>\n",
       "    <tr>\n",
       "      <th>0</th>\n",
       "      <td>-0.295258</td>\n",
       "      <td>-1.49384</td>\n",
       "      <td>0.796023</td>\n",
       "      <td>-0.677331</td>\n",
       "      <td>0.755594</td>\n",
       "    </tr>\n",
       "    <tr>\n",
       "      <th>1</th>\n",
       "      <td>0.345074</td>\n",
       "      <td>1.01152</td>\n",
       "      <td>0.230844</td>\n",
       "      <td>0.237677</td>\n",
       "      <td>0.193419</td>\n",
       "    </tr>\n",
       "  </tbody>\n",
       "</table>\n",
       "</div>"
      ],
      "text/plain": [
       "        PC1      PC2       PC3       PC4       PC5\n",
       "0 -0.295258 -1.49384  0.796023 -0.677331  0.755594\n",
       "1  0.345074  1.01152  0.230844  0.237677  0.193419"
      ]
     },
     "execution_count": 23,
     "metadata": {},
     "output_type": "execute_result"
    }
   ],
   "source": [
    "from sklearn.decomposition import PCA\n",
    "model = PCA(whiten=True)\n",
    "model.fit(sc_df)\n",
    "new = model.transform(sc_df)\n",
    "new_df = pd.DataFrame(new, columns=['PC1','PC2','PC3','PC4','PC5'])\n",
    "new_df.head(2)"
   ]
  },
  {
   "cell_type": "code",
   "execution_count": 26,
   "id": "4d53f97c-473c-4458-bcfd-b3f747c48c3d",
   "metadata": {},
   "outputs": [
    {
     "data": {
      "text/html": [
       "<div>\n",
       "<style scoped>\n",
       "    .dataframe tbody tr th:only-of-type {\n",
       "        vertical-align: middle;\n",
       "    }\n",
       "\n",
       "    .dataframe tbody tr th {\n",
       "        vertical-align: top;\n",
       "    }\n",
       "\n",
       "    .dataframe thead th {\n",
       "        text-align: right;\n",
       "    }\n",
       "</style>\n",
       "<table border=\"1\" class=\"dataframe\">\n",
       "  <thead>\n",
       "    <tr style=\"text-align: right;\">\n",
       "      <th></th>\n",
       "      <th>SNS1</th>\n",
       "      <th>SNS2</th>\n",
       "      <th>actor</th>\n",
       "      <th>original</th>\n",
       "      <th>sales</th>\n",
       "      <th>PC1</th>\n",
       "      <th>PC2</th>\n",
       "      <th>PC3</th>\n",
       "      <th>PC4</th>\n",
       "      <th>PC5</th>\n",
       "    </tr>\n",
       "  </thead>\n",
       "  <tbody>\n",
       "    <tr>\n",
       "      <th>0</th>\n",
       "      <td>-0.380071</td>\n",
       "      <td>1.196371</td>\n",
       "      <td>-0.704163</td>\n",
       "      <td>-1.0</td>\n",
       "      <td>-0.190425</td>\n",
       "      <td>-0.295258</td>\n",
       "      <td>-1.49384</td>\n",
       "      <td>0.796023</td>\n",
       "      <td>-0.677331</td>\n",
       "      <td>0.755594</td>\n",
       "    </tr>\n",
       "    <tr>\n",
       "      <th>1</th>\n",
       "      <td>-0.036880</td>\n",
       "      <td>-0.280899</td>\n",
       "      <td>0.330366</td>\n",
       "      <td>1.0</td>\n",
       "      <td>0.411923</td>\n",
       "      <td>0.345074</td>\n",
       "      <td>1.01152</td>\n",
       "      <td>0.230844</td>\n",
       "      <td>0.237677</td>\n",
       "      <td>0.193419</td>\n",
       "    </tr>\n",
       "  </tbody>\n",
       "</table>\n",
       "</div>"
      ],
      "text/plain": [
       "       SNS1      SNS2     actor  original     sales       PC1      PC2  \\\n",
       "0 -0.380071  1.196371 -0.704163      -1.0 -0.190425 -0.295258 -1.49384   \n",
       "1 -0.036880 -0.280899  0.330366       1.0  0.411923  0.345074  1.01152   \n",
       "\n",
       "        PC3       PC4       PC5  \n",
       "0  0.796023 -0.677331  0.755594  \n",
       "1  0.230844  0.237677  0.193419  "
      ]
     },
     "execution_count": 26,
     "metadata": {},
     "output_type": "execute_result"
    }
   ],
   "source": [
    "df2 = pd.concat([sc_df,new_df], axis=1)\n",
    "df2.head(2)"
   ]
  },
  {
   "cell_type": "code",
   "execution_count": 28,
   "id": "af55acbb-bcbe-4f08-b58c-611ce0c09486",
   "metadata": {},
   "outputs": [
    {
     "data": {
      "text/html": [
       "<div>\n",
       "<style scoped>\n",
       "    .dataframe tbody tr th:only-of-type {\n",
       "        vertical-align: middle;\n",
       "    }\n",
       "\n",
       "    .dataframe tbody tr th {\n",
       "        vertical-align: top;\n",
       "    }\n",
       "\n",
       "    .dataframe thead th {\n",
       "        text-align: right;\n",
       "    }\n",
       "</style>\n",
       "<table border=\"1\" class=\"dataframe\">\n",
       "  <thead>\n",
       "    <tr style=\"text-align: right;\">\n",
       "      <th></th>\n",
       "      <th>PC1</th>\n",
       "      <th>PC2</th>\n",
       "      <th>PC3</th>\n",
       "      <th>PC4</th>\n",
       "      <th>PC5</th>\n",
       "    </tr>\n",
       "  </thead>\n",
       "  <tbody>\n",
       "    <tr>\n",
       "      <th>SNS1</th>\n",
       "      <td>0.736368</td>\n",
       "      <td>-0.050756</td>\n",
       "      <td>-0.531509</td>\n",
       "      <td>-0.400204</td>\n",
       "      <td>-0.111893</td>\n",
       "    </tr>\n",
       "    <tr>\n",
       "      <th>SNS2</th>\n",
       "      <td>0.598555</td>\n",
       "      <td>-0.534089</td>\n",
       "      <td>0.536704</td>\n",
       "      <td>-0.257982</td>\n",
       "      <td>-0.043290</td>\n",
       "    </tr>\n",
       "    <tr>\n",
       "      <th>actor</th>\n",
       "      <td>0.837999</td>\n",
       "      <td>-0.037073</td>\n",
       "      <td>-0.017275</td>\n",
       "      <td>0.505267</td>\n",
       "      <td>-0.201966</td>\n",
       "    </tr>\n",
       "    <tr>\n",
       "      <th>original</th>\n",
       "      <td>0.469117</td>\n",
       "      <td>0.800559</td>\n",
       "      <td>0.324773</td>\n",
       "      <td>-0.176023</td>\n",
       "      <td>-0.050717</td>\n",
       "    </tr>\n",
       "    <tr>\n",
       "      <th>sales</th>\n",
       "      <td>0.936901</td>\n",
       "      <td>0.013415</td>\n",
       "      <td>-0.072303</td>\n",
       "      <td>0.115569</td>\n",
       "      <td>0.321640</td>\n",
       "    </tr>\n",
       "  </tbody>\n",
       "</table>\n",
       "</div>"
      ],
      "text/plain": [
       "               PC1       PC2       PC3       PC4       PC5\n",
       "SNS1      0.736368 -0.050756 -0.531509 -0.400204 -0.111893\n",
       "SNS2      0.598555 -0.534089  0.536704 -0.257982 -0.043290\n",
       "actor     0.837999 -0.037073 -0.017275  0.505267 -0.201966\n",
       "original  0.469117  0.800559  0.324773 -0.176023 -0.050717\n",
       "sales     0.936901  0.013415 -0.072303  0.115569  0.321640"
      ]
     },
     "execution_count": 28,
     "metadata": {},
     "output_type": "execute_result"
    }
   ],
   "source": [
    "df2.corr().loc[:'sales','PC1':]"
   ]
  },
  {
   "cell_type": "code",
   "execution_count": 31,
   "id": "0feba11b-b57b-4330-bbed-989f0e4bd301",
   "metadata": {},
   "outputs": [
    {
     "data": {
      "text/plain": [
       "array([0.54012068, 0.1860554 , 0.13631136, 0.10527073, 0.03224184])"
      ]
     },
     "execution_count": 31,
     "metadata": {},
     "output_type": "execute_result"
    }
   ],
   "source": [
    "ratio = model.explained_variance_ratio_\n",
    "ratio"
   ]
  },
  {
   "cell_type": "code",
   "execution_count": 38,
   "id": "25b51fb3-902b-4db1-a6b7-c7f504ed3aee",
   "metadata": {},
   "outputs": [
    {
     "name": "stdout",
     "output_type": "stream",
     "text": [
      "0\n",
      "0\n",
      "1\n",
      "0.5401206784462212\n",
      "2\n",
      "0.7261760786703707\n",
      "3\n",
      "0.8624874337165251\n",
      "3\n",
      "0.8624874337165251\n"
     ]
    }
   ],
   "source": [
    "for j in range(len(ratio)):\n",
    "    print(j)\n",
    "    fig = sum(ratio[0:j])\n",
    "    print(fig)\n",
    "    if fig >= 0.8:\n",
    "        print(j)\n",
    "        print(fig)\n",
    "        break"
   ]
  }
 ],
 "metadata": {
  "kernelspec": {
   "display_name": "Python 3 (ipykernel)",
   "language": "python",
   "name": "python3"
  },
  "language_info": {
   "codemirror_mode": {
    "name": "ipython",
    "version": 3
   },
   "file_extension": ".py",
   "mimetype": "text/x-python",
   "name": "python",
   "nbconvert_exporter": "python",
   "pygments_lexer": "ipython3",
   "version": "3.12.4"
  }
 },
 "nbformat": 4,
 "nbformat_minor": 5
}
