{
 "cells": [
  {
   "cell_type": "code",
   "execution_count": 3,
   "id": "c81ec2bd-4115-4922-bdf7-8833edfb65f0",
   "metadata": {},
   "outputs": [],
   "source": [
    "import pandas as pd\n",
    "%matplotlib inline\n",
    "from sklearn.model_selection import train_test_split\n",
    "from sklearn.tree import DecisionTreeClassifier"
   ]
  },
  {
   "cell_type": "code",
   "execution_count": 4,
   "id": "2ab3531d-89eb-493e-bace-2ef707e52c07",
   "metadata": {},
   "outputs": [
    {
     "data": {
      "text/html": [
       "<div>\n",
       "<style scoped>\n",
       "    .dataframe tbody tr th:only-of-type {\n",
       "        vertical-align: middle;\n",
       "    }\n",
       "\n",
       "    .dataframe tbody tr th {\n",
       "        vertical-align: top;\n",
       "    }\n",
       "\n",
       "    .dataframe thead th {\n",
       "        text-align: right;\n",
       "    }\n",
       "</style>\n",
       "<table border=\"1\" class=\"dataframe\">\n",
       "  <thead>\n",
       "    <tr style=\"text-align: right;\">\n",
       "      <th></th>\n",
       "      <th>id</th>\n",
       "      <th>age</th>\n",
       "      <th>job</th>\n",
       "      <th>marital</th>\n",
       "      <th>education</th>\n",
       "      <th>default</th>\n",
       "      <th>amount</th>\n",
       "      <th>housing</th>\n",
       "      <th>loan</th>\n",
       "      <th>contact</th>\n",
       "      <th>day</th>\n",
       "      <th>month</th>\n",
       "      <th>duration</th>\n",
       "      <th>campaign</th>\n",
       "      <th>previous</th>\n",
       "      <th>y</th>\n",
       "    </tr>\n",
       "  </thead>\n",
       "  <tbody>\n",
       "    <tr>\n",
       "      <th>0</th>\n",
       "      <td>1</td>\n",
       "      <td>39</td>\n",
       "      <td>blue-collar</td>\n",
       "      <td>married</td>\n",
       "      <td>secondary</td>\n",
       "      <td>no</td>\n",
       "      <td>1756</td>\n",
       "      <td>yes</td>\n",
       "      <td>no</td>\n",
       "      <td>cellular</td>\n",
       "      <td>3</td>\n",
       "      <td>apr</td>\n",
       "      <td>370.055237</td>\n",
       "      <td>1</td>\n",
       "      <td>0</td>\n",
       "      <td>1</td>\n",
       "    </tr>\n",
       "    <tr>\n",
       "      <th>1</th>\n",
       "      <td>2</td>\n",
       "      <td>51</td>\n",
       "      <td>entrepreneur</td>\n",
       "      <td>married</td>\n",
       "      <td>primary</td>\n",
       "      <td>no</td>\n",
       "      <td>1443</td>\n",
       "      <td>no</td>\n",
       "      <td>no</td>\n",
       "      <td>cellular</td>\n",
       "      <td>18</td>\n",
       "      <td>feb</td>\n",
       "      <td>233.998933</td>\n",
       "      <td>10</td>\n",
       "      <td>0</td>\n",
       "      <td>1</td>\n",
       "    </tr>\n",
       "    <tr>\n",
       "      <th>2</th>\n",
       "      <td>3</td>\n",
       "      <td>36</td>\n",
       "      <td>management</td>\n",
       "      <td>single</td>\n",
       "      <td>tertiary</td>\n",
       "      <td>no</td>\n",
       "      <td>436</td>\n",
       "      <td>no</td>\n",
       "      <td>no</td>\n",
       "      <td>cellular</td>\n",
       "      <td>13</td>\n",
       "      <td>apr</td>\n",
       "      <td>NaN</td>\n",
       "      <td>1</td>\n",
       "      <td>2</td>\n",
       "      <td>0</td>\n",
       "    </tr>\n",
       "    <tr>\n",
       "      <th>3</th>\n",
       "      <td>4</td>\n",
       "      <td>63</td>\n",
       "      <td>retired</td>\n",
       "      <td>married</td>\n",
       "      <td>secondary</td>\n",
       "      <td>no</td>\n",
       "      <td>474</td>\n",
       "      <td>no</td>\n",
       "      <td>no</td>\n",
       "      <td>cellular</td>\n",
       "      <td>25</td>\n",
       "      <td>jan</td>\n",
       "      <td>252.525808</td>\n",
       "      <td>1</td>\n",
       "      <td>0</td>\n",
       "      <td>0</td>\n",
       "    </tr>\n",
       "    <tr>\n",
       "      <th>4</th>\n",
       "      <td>5</td>\n",
       "      <td>31</td>\n",
       "      <td>management</td>\n",
       "      <td>single</td>\n",
       "      <td>tertiary</td>\n",
       "      <td>no</td>\n",
       "      <td>354</td>\n",
       "      <td>no</td>\n",
       "      <td>no</td>\n",
       "      <td>cellular</td>\n",
       "      <td>30</td>\n",
       "      <td>apr</td>\n",
       "      <td>NaN</td>\n",
       "      <td>1</td>\n",
       "      <td>2</td>\n",
       "      <td>0</td>\n",
       "    </tr>\n",
       "    <tr>\n",
       "      <th>...</th>\n",
       "      <td>...</td>\n",
       "      <td>...</td>\n",
       "      <td>...</td>\n",
       "      <td>...</td>\n",
       "      <td>...</td>\n",
       "      <td>...</td>\n",
       "      <td>...</td>\n",
       "      <td>...</td>\n",
       "      <td>...</td>\n",
       "      <td>...</td>\n",
       "      <td>...</td>\n",
       "      <td>...</td>\n",
       "      <td>...</td>\n",
       "      <td>...</td>\n",
       "      <td>...</td>\n",
       "      <td>...</td>\n",
       "    </tr>\n",
       "    <tr>\n",
       "      <th>27123</th>\n",
       "      <td>27124</td>\n",
       "      <td>42</td>\n",
       "      <td>blue-collar</td>\n",
       "      <td>married</td>\n",
       "      <td>primary</td>\n",
       "      <td>no</td>\n",
       "      <td>1455</td>\n",
       "      <td>yes</td>\n",
       "      <td>no</td>\n",
       "      <td>cellular</td>\n",
       "      <td>2</td>\n",
       "      <td>feb</td>\n",
       "      <td>246.943522</td>\n",
       "      <td>2</td>\n",
       "      <td>2</td>\n",
       "      <td>0</td>\n",
       "    </tr>\n",
       "    <tr>\n",
       "      <th>27124</th>\n",
       "      <td>27125</td>\n",
       "      <td>34</td>\n",
       "      <td>services</td>\n",
       "      <td>single</td>\n",
       "      <td>secondary</td>\n",
       "      <td>no</td>\n",
       "      <td>719</td>\n",
       "      <td>yes</td>\n",
       "      <td>no</td>\n",
       "      <td>sending _document</td>\n",
       "      <td>15</td>\n",
       "      <td>may</td>\n",
       "      <td>NaN</td>\n",
       "      <td>3</td>\n",
       "      <td>0</td>\n",
       "      <td>1</td>\n",
       "    </tr>\n",
       "    <tr>\n",
       "      <th>27125</th>\n",
       "      <td>27126</td>\n",
       "      <td>36</td>\n",
       "      <td>blue-collar</td>\n",
       "      <td>single</td>\n",
       "      <td>primary</td>\n",
       "      <td>no</td>\n",
       "      <td>49</td>\n",
       "      <td>yes</td>\n",
       "      <td>no</td>\n",
       "      <td>sending _document</td>\n",
       "      <td>8</td>\n",
       "      <td>may</td>\n",
       "      <td>303.008360</td>\n",
       "      <td>1</td>\n",
       "      <td>0</td>\n",
       "      <td>0</td>\n",
       "    </tr>\n",
       "    <tr>\n",
       "      <th>27126</th>\n",
       "      <td>27127</td>\n",
       "      <td>33</td>\n",
       "      <td>housemaid</td>\n",
       "      <td>married</td>\n",
       "      <td>primary</td>\n",
       "      <td>no</td>\n",
       "      <td>209</td>\n",
       "      <td>no</td>\n",
       "      <td>no</td>\n",
       "      <td>cellular</td>\n",
       "      <td>12</td>\n",
       "      <td>aug</td>\n",
       "      <td>258.334424</td>\n",
       "      <td>4</td>\n",
       "      <td>0</td>\n",
       "      <td>1</td>\n",
       "    </tr>\n",
       "    <tr>\n",
       "      <th>27127</th>\n",
       "      <td>27128</td>\n",
       "      <td>29</td>\n",
       "      <td>services</td>\n",
       "      <td>single</td>\n",
       "      <td>secondary</td>\n",
       "      <td>no</td>\n",
       "      <td>40</td>\n",
       "      <td>yes</td>\n",
       "      <td>no</td>\n",
       "      <td>cellular</td>\n",
       "      <td>18</td>\n",
       "      <td>may</td>\n",
       "      <td>321.215556</td>\n",
       "      <td>1</td>\n",
       "      <td>2</td>\n",
       "      <td>0</td>\n",
       "    </tr>\n",
       "  </tbody>\n",
       "</table>\n",
       "<p>27128 rows × 16 columns</p>\n",
       "</div>"
      ],
      "text/plain": [
       "          id  age           job  marital  education default  amount housing  \\\n",
       "0          1   39   blue-collar  married  secondary      no    1756     yes   \n",
       "1          2   51  entrepreneur  married    primary      no    1443      no   \n",
       "2          3   36    management   single   tertiary      no     436      no   \n",
       "3          4   63       retired  married  secondary      no     474      no   \n",
       "4          5   31    management   single   tertiary      no     354      no   \n",
       "...      ...  ...           ...      ...        ...     ...     ...     ...   \n",
       "27123  27124   42   blue-collar  married    primary      no    1455     yes   \n",
       "27124  27125   34      services   single  secondary      no     719     yes   \n",
       "27125  27126   36   blue-collar   single    primary      no      49     yes   \n",
       "27126  27127   33     housemaid  married    primary      no     209      no   \n",
       "27127  27128   29      services   single  secondary      no      40     yes   \n",
       "\n",
       "      loan            contact  day month    duration  campaign  previous  y  \n",
       "0       no           cellular    3   apr  370.055237         1         0  1  \n",
       "1       no           cellular   18   feb  233.998933        10         0  1  \n",
       "2       no           cellular   13   apr         NaN         1         2  0  \n",
       "3       no           cellular   25   jan  252.525808         1         0  0  \n",
       "4       no           cellular   30   apr         NaN         1         2  0  \n",
       "...    ...                ...  ...   ...         ...       ...       ... ..  \n",
       "27123   no           cellular    2   feb  246.943522         2         2  0  \n",
       "27124   no  sending _document   15   may         NaN         3         0  1  \n",
       "27125   no  sending _document    8   may  303.008360         1         0  0  \n",
       "27126   no           cellular   12   aug  258.334424         4         0  1  \n",
       "27127   no           cellular   18   may  321.215556         1         2  0  \n",
       "\n",
       "[27128 rows x 16 columns]"
      ]
     },
     "execution_count": 4,
     "metadata": {},
     "output_type": "execute_result"
    }
   ],
   "source": [
    "df=pd.read_csv('bank_new.csv')\n",
    "df"
   ]
  },
  {
   "cell_type": "code",
   "execution_count": 5,
   "id": "4da25b5f-4a95-47c3-a19c-fd620100ef21",
   "metadata": {},
   "outputs": [],
   "source": [
    "df2 = pd.get_dummies(df,drop_first=True,dtype=int)"
   ]
  },
  {
   "cell_type": "code",
   "execution_count": 6,
   "id": "b8b77138-29d1-454f-89d1-e1cd21dd1337",
   "metadata": {},
   "outputs": [],
   "source": [
    "train_val,test=train_test_split(df2,test_size=0.2,random_state=0)"
   ]
  },
  {
   "cell_type": "code",
   "execution_count": 7,
   "id": "7c92bfb0-8797-476f-bd8c-597a6a990a92",
   "metadata": {},
   "outputs": [
    {
     "data": {
      "text/plain": [
       "id                              0\n",
       "age                             0\n",
       "amount                          0\n",
       "day                             0\n",
       "duration                     5633\n",
       "campaign                        0\n",
       "previous                        0\n",
       "y                               0\n",
       "job_blue-collar                 0\n",
       "job_entrepreneur                0\n",
       "job_housemaid                   0\n",
       "job_management                  0\n",
       "job_retired                     0\n",
       "job_self-employed               0\n",
       "job_services                    0\n",
       "job_student                     0\n",
       "job_technician                  0\n",
       "job_unemployed                  0\n",
       "job_unknown                     0\n",
       "marital_married                 0\n",
       "marital_single                  0\n",
       "education_secondary             0\n",
       "education_tertiary              0\n",
       "education_unknown               0\n",
       "default_yes                     0\n",
       "housing_yes                     0\n",
       "loan_yes                        0\n",
       "contact_sending _document       0\n",
       "contact_telephone               0\n",
       "month_aug                       0\n",
       "month_dec                       0\n",
       "month_feb                       0\n",
       "month_jan                       0\n",
       "month_jul                       0\n",
       "month_jun                       0\n",
       "month_mar                       0\n",
       "month_may                       0\n",
       "month_nov                       0\n",
       "month_oct                       0\n",
       "month_sep                       0\n",
       "dtype: int64"
      ]
     },
     "execution_count": 7,
     "metadata": {},
     "output_type": "execute_result"
    }
   ],
   "source": [
    "train_val.isnull().sum()"
   ]
  },
  {
   "cell_type": "code",
   "execution_count": 8,
   "id": "65874285-ddf6-4cd0-bdd2-6d733e29d62b",
   "metadata": {},
   "outputs": [],
   "source": [
    "is_null=train_val['duration'].isnull()\n",
    "train_val.loc[(is_null)&(train_val['age']<30)&(train_val['y']==1),'duration']=train_val.loc[(train_val['age']<30)&(train_val['y']==1)].mean()\n",
    "train_val.loc\n",
    "for i in [20,30,40,50,60,70,80,90]:\n",
    "    train_val.loc[(is_null)&(train_val['age']>=i)&(train_val['age']<(i+10))&(train_val['y']==1),'duration']=train_val.loc[(train_val['age']>=i)&(train_val['age']<(i+10))&(train_val['y']==1)].mean()\n",
    "for i in [20,30,40,50,60,70,80,90]:\n",
    "    train_val.loc[(is_null)&(train_val['age']>=i)&(train_val['age']<(i+10))&(train_val['y']==0),'duration']=train_val.loc[(train_val['age']>=i)&(train_val['age']<(i+10))&(train_val['y']==0)].mean()    "
   ]
  },
  {
   "cell_type": "code",
   "execution_count": 9,
   "id": "3c454988-2669-45c3-bd9e-affdb01005ce",
   "metadata": {},
   "outputs": [
    {
     "ename": "NameError",
     "evalue": "name 'x2' is not defined",
     "output_type": "error",
     "traceback": [
      "\u001b[1;31m---------------------------------------------------------------------------\u001b[0m",
      "\u001b[1;31mNameError\u001b[0m                                 Traceback (most recent call last)",
      "Cell \u001b[1;32mIn[9], line 10\u001b[0m\n\u001b[0;32m      8\u001b[0m     val_score\u001b[38;5;241m=\u001b[39mmodel\u001b[38;5;241m.\u001b[39mscore(x_val,y_val)\n\u001b[0;32m      9\u001b[0m     \u001b[38;5;28;01mreturn\u001b[39;00m train_score,val_score\n\u001b[1;32m---> 10\u001b[0m learn(\u001b[43mx2\u001b[49m,t2)\n",
      "\u001b[1;31mNameError\u001b[0m: name 'x2' is not defined"
     ]
    }
   ],
   "source": [
    "def learn(x,t):\n",
    "    x_train,x_val,y_train,y_val=train_test_split(x,t,test_size=0.2,random_state=8)\n",
    "    y_train=pd.DataFrame(y_train)\n",
    "    y_val=pd.DataFrame(y_val)\n",
    "    model=DecisionTreeClassifier(max_depth=8,random_state=9,class_weight='balanced')\n",
    "    model.fit(x_train,y_train)\n",
    "    train_score=model.score(x_train,y_train)\n",
    "    val_score=model.score(x_val,y_val)\n",
    "    return train_score,val_score\n",
    "learn(x2,t2)"
   ]
  },
  {
   "cell_type": "code",
   "execution_count": null,
   "id": "7d977ba1-6e3e-4f5c-88db-4253bf5f0ddc",
   "metadata": {},
   "outputs": [],
   "source": [
    "x=train_val.drop(['y','id','day'],axis=1)\n",
    "t=train_val['y']"
   ]
  },
  {
   "cell_type": "code",
   "execution_count": null,
   "id": "05ef6b52-653e-4fd9-8852-fc836f49fe41",
   "metadata": {
    "scrolled": true
   },
   "outputs": [],
   "source": [
    "train_val.corr()['y']"
   ]
  },
  {
   "cell_type": "code",
   "execution_count": null,
   "id": "0671f4ee-ee2d-4ccf-ad6d-0923fd63213d",
   "metadata": {
    "scrolled": true
   },
   "outputs": [],
   "source": [
    "a,b=learn(x,t)"
   ]
  },
  {
   "cell_type": "code",
   "execution_count": null,
   "id": "ec7b7c15-b042-4c9c-8794-8454866cbac7",
   "metadata": {},
   "outputs": [],
   "source": [
    "print(a,b)"
   ]
  },
  {
   "cell_type": "code",
   "execution_count": null,
   "id": "ff8b06b6-2798-4597-bf5e-5bafb48ebd40",
   "metadata": {},
   "outputs": [],
   "source": [
    "corr_train_val = train_val.corr()['y'].sort_values(ascending=False).map(abs)\n",
    "corr_train_val = corr_train_val.drop(index = 'y')\n",
    "corr_train_val"
   ]
  },
  {
   "cell_type": "code",
   "execution_count": null,
   "id": "57a6901c-eb5d-4be6-af3b-af3cd4f37b64",
   "metadata": {},
   "outputs": [],
   "source": [
    "x.columns"
   ]
  },
  {
   "cell_type": "code",
   "execution_count": null,
   "id": "6fcb5173-cd96-4c3c-bee1-2096a71763ca",
   "metadata": {},
   "outputs": [],
   "source": [
    "x1 = x.drop(columns = ['job_services','month_mar','month_dec','education_secondary', 'job_unknown', 'month_sep', 'contact_telephone', 'month_oct', 'month_jul'])"
   ]
  },
  {
   "cell_type": "code",
   "execution_count": null,
   "id": "01eb9dc7-bbf0-40bd-8520-7fdf6ac499ef",
   "metadata": {},
   "outputs": [],
   "source": [
    "learn(x1,t)"
   ]
  },
  {
   "cell_type": "code",
   "execution_count": null,
   "id": "baea67a4-ad39-4df5-af64-8694ebc82f57",
   "metadata": {},
   "outputs": [],
   "source": [
    "tuple(corr_train_val.index)"
   ]
  },
  {
   "cell_type": "code",
   "execution_count": null,
   "id": "2edb66b8-ebfe-48fe-951e-00342066cf71",
   "metadata": {},
   "outputs": [],
   "source": [
    "current_elements = []\n",
    "for element in tuple(corr_train_val.index):\n",
    "    current_elements.append(element) \n",
    "    print(learn(train_val[current_elements],t))"
   ]
  },
  {
   "cell_type": "code",
   "execution_count": null,
   "id": "d59e6931-b0f5-4913-ad8d-1e802a1beff2",
   "metadata": {},
   "outputs": [],
   "source": [
    "for j in range(1,20):\n",
    "    print(j)\n",
    "    print(learn(x,t, max_depth=j))"
   ]
  },
  {
   "cell_type": "code",
   "execution_count": null,
   "id": "af5fdb90-92ff-4924-a968-fe3e31a4b9a4",
   "metadata": {},
   "outputs": [],
   "source": [
    "learn(x,t)"
   ]
  },
  {
   "cell_type": "code",
   "execution_count": null,
   "id": "b2697ee0-0dca-4e00-a3ca-2cfabd4d5aba",
   "metadata": {},
   "outputs": [],
   "source": [
    "x2=train_val[['duration', 'housing_yes', 'campaign', 'contact_sending _document']]\n",
    "learn(x2, t)"
   ]
  },
  {
   "cell_type": "code",
   "execution_count": null,
   "id": "c8fa07c4-2200-41f0-819b-08685c3aef82",
   "metadata": {},
   "outputs": [],
   "source": [
    "train_val.plot(kind='scatter',x='duration',y='age')"
   ]
  },
  {
   "cell_type": "code",
   "execution_count": null,
   "id": "fec11348-c894-47dc-be2b-b8e85b4e3365",
   "metadata": {},
   "outputs": [],
   "source": []
  },
  {
   "cell_type": "code",
   "execution_count": null,
   "id": "8fd20b0b-5849-45e0-9b24-45cb80f6a908",
   "metadata": {},
   "outputs": [],
   "source": []
  },
  {
   "cell_type": "code",
   "execution_count": null,
   "id": "71f1c342-3333-4fa6-bfec-0fa9b94d9dec",
   "metadata": {},
   "outputs": [],
   "source": []
  }
 ],
 "metadata": {
  "kernelspec": {
   "display_name": "Python 3 (ipykernel)",
   "language": "python",
   "name": "python3"
  },
  "language_info": {
   "codemirror_mode": {
    "name": "ipython",
    "version": 3
   },
   "file_extension": ".py",
   "mimetype": "text/x-python",
   "name": "python",
   "nbconvert_exporter": "python",
   "pygments_lexer": "ipython3",
   "version": "3.12.4"
  }
 },
 "nbformat": 4,
 "nbformat_minor": 5
}
