{
 "cells": [
  {
   "cell_type": "code",
   "execution_count": 1,
   "id": "c81ec2bd-4115-4922-bdf7-8833edfb65f0",
   "metadata": {},
   "outputs": [],
   "source": [
    "import pandas as pd\n",
    "%matplotlib inline\n",
    "from sklearn.model_selection import train_test_split\n",
    "from sklearn.tree import DecisionTreeClassifier\n",
    "from sklearn.linear_model import LinearRegression"
   ]
  },
  {
   "cell_type": "code",
   "execution_count": 2,
   "id": "2ab3531d-89eb-493e-bace-2ef707e52c07",
   "metadata": {
    "scrolled": true
   },
   "outputs": [
    {
     "data": {
      "text/html": [
       "<div>\n",
       "<style scoped>\n",
       "    .dataframe tbody tr th:only-of-type {\n",
       "        vertical-align: middle;\n",
       "    }\n",
       "\n",
       "    .dataframe tbody tr th {\n",
       "        vertical-align: top;\n",
       "    }\n",
       "\n",
       "    .dataframe thead th {\n",
       "        text-align: right;\n",
       "    }\n",
       "</style>\n",
       "<table border=\"1\" class=\"dataframe\">\n",
       "  <thead>\n",
       "    <tr style=\"text-align: right;\">\n",
       "      <th></th>\n",
       "      <th>id</th>\n",
       "      <th>age</th>\n",
       "      <th>job</th>\n",
       "      <th>marital</th>\n",
       "      <th>education</th>\n",
       "      <th>default</th>\n",
       "      <th>amount</th>\n",
       "      <th>housing</th>\n",
       "      <th>loan</th>\n",
       "      <th>contact</th>\n",
       "      <th>day</th>\n",
       "      <th>month</th>\n",
       "      <th>duration</th>\n",
       "      <th>campaign</th>\n",
       "      <th>previous</th>\n",
       "      <th>y</th>\n",
       "    </tr>\n",
       "  </thead>\n",
       "  <tbody>\n",
       "    <tr>\n",
       "      <th>0</th>\n",
       "      <td>1</td>\n",
       "      <td>39</td>\n",
       "      <td>blue-collar</td>\n",
       "      <td>married</td>\n",
       "      <td>secondary</td>\n",
       "      <td>no</td>\n",
       "      <td>1756</td>\n",
       "      <td>yes</td>\n",
       "      <td>no</td>\n",
       "      <td>cellular</td>\n",
       "      <td>3</td>\n",
       "      <td>apr</td>\n",
       "      <td>370.055237</td>\n",
       "      <td>1</td>\n",
       "      <td>0</td>\n",
       "      <td>1</td>\n",
       "    </tr>\n",
       "    <tr>\n",
       "      <th>1</th>\n",
       "      <td>2</td>\n",
       "      <td>51</td>\n",
       "      <td>entrepreneur</td>\n",
       "      <td>married</td>\n",
       "      <td>primary</td>\n",
       "      <td>no</td>\n",
       "      <td>1443</td>\n",
       "      <td>no</td>\n",
       "      <td>no</td>\n",
       "      <td>cellular</td>\n",
       "      <td>18</td>\n",
       "      <td>feb</td>\n",
       "      <td>233.998933</td>\n",
       "      <td>10</td>\n",
       "      <td>0</td>\n",
       "      <td>1</td>\n",
       "    </tr>\n",
       "    <tr>\n",
       "      <th>2</th>\n",
       "      <td>3</td>\n",
       "      <td>36</td>\n",
       "      <td>management</td>\n",
       "      <td>single</td>\n",
       "      <td>tertiary</td>\n",
       "      <td>no</td>\n",
       "      <td>436</td>\n",
       "      <td>no</td>\n",
       "      <td>no</td>\n",
       "      <td>cellular</td>\n",
       "      <td>13</td>\n",
       "      <td>apr</td>\n",
       "      <td>NaN</td>\n",
       "      <td>1</td>\n",
       "      <td>2</td>\n",
       "      <td>0</td>\n",
       "    </tr>\n",
       "  </tbody>\n",
       "</table>\n",
       "</div>"
      ],
      "text/plain": [
       "   id  age           job  marital  education default  amount housing loan  \\\n",
       "0   1   39   blue-collar  married  secondary      no    1756     yes   no   \n",
       "1   2   51  entrepreneur  married    primary      no    1443      no   no   \n",
       "2   3   36    management   single   tertiary      no     436      no   no   \n",
       "\n",
       "    contact  day month    duration  campaign  previous  y  \n",
       "0  cellular    3   apr  370.055237         1         0  1  \n",
       "1  cellular   18   feb  233.998933        10         0  1  \n",
       "2  cellular   13   apr         NaN         1         2  0  "
      ]
     },
     "execution_count": 2,
     "metadata": {},
     "output_type": "execute_result"
    }
   ],
   "source": [
    "df = pd.read_csv('bank_new.csv')\n",
    "df.head(3)"
   ]
  },
  {
   "cell_type": "code",
   "execution_count": 3,
   "id": "4da25b5f-4a95-47c3-a19c-fd620100ef21",
   "metadata": {},
   "outputs": [],
   "source": [
    "df2 = pd.get_dummies(df,drop_first=True,dtype=int)"
   ]
  },
  {
   "cell_type": "code",
   "execution_count": 4,
   "id": "b8b77138-29d1-454f-89d1-e1cd21dd1337",
   "metadata": {},
   "outputs": [],
   "source": [
    "train_val,test=train_test_split(df2,test_size=0.2,random_state=0)"
   ]
  },
  {
   "cell_type": "code",
   "execution_count": 5,
   "id": "7c92bfb0-8797-476f-bd8c-597a6a990a92",
   "metadata": {
    "scrolled": true
   },
   "outputs": [
    {
     "data": {
      "text/plain": [
       "id                              0\n",
       "age                             0\n",
       "amount                          0\n",
       "day                             0\n",
       "duration                     5633\n",
       "campaign                        0\n",
       "previous                        0\n",
       "y                               0\n",
       "job_blue-collar                 0\n",
       "job_entrepreneur                0\n",
       "job_housemaid                   0\n",
       "job_management                  0\n",
       "job_retired                     0\n",
       "job_self-employed               0\n",
       "job_services                    0\n",
       "job_student                     0\n",
       "job_technician                  0\n",
       "job_unemployed                  0\n",
       "job_unknown                     0\n",
       "marital_married                 0\n",
       "marital_single                  0\n",
       "education_secondary             0\n",
       "education_tertiary              0\n",
       "education_unknown               0\n",
       "default_yes                     0\n",
       "housing_yes                     0\n",
       "loan_yes                        0\n",
       "contact_sending _document       0\n",
       "contact_telephone               0\n",
       "month_aug                       0\n",
       "month_dec                       0\n",
       "month_feb                       0\n",
       "month_jan                       0\n",
       "month_jul                       0\n",
       "month_jun                       0\n",
       "month_mar                       0\n",
       "month_may                       0\n",
       "month_nov                       0\n",
       "month_oct                       0\n",
       "month_sep                       0\n",
       "dtype: int64"
      ]
     },
     "execution_count": 5,
     "metadata": {},
     "output_type": "execute_result"
    }
   ],
   "source": [
    "train_val.isnull().sum()"
   ]
  },
  {
   "cell_type": "code",
   "execution_count": 6,
   "id": "319a5b43-6eb2-4f09-a170-e766d2f55d49",
   "metadata": {},
   "outputs": [],
   "source": [
    "train_val2=train_val.dropna()\n",
    "pre_x = train_val2.drop(['duration','id','day'],axis=1)\n",
    "pre_t = train_val2['duration']\n",
    "\n",
    "model = LinearRegression()\n",
    "model.fit(pre_x, pre_t)\n",
    "\n",
    "condition = train_val['duration'].isnull()\n",
    "non_data = train_val.loc[condition]\n",
    "x = non_data.drop(['duration', 'id', 'day'], axis=1)\n",
    "pred = model.predict(x)\n",
    "non_data.loc[condition, 'duration'] = pred"
   ]
  },
  {
   "cell_type": "code",
   "execution_count": 7,
   "id": "21b62c4a-5687-4290-9ac8-82b213b71744",
   "metadata": {},
   "outputs": [
    {
     "ename": "ValueError",
     "evalue": "Found array with 0 sample(s) (shape=(0, 37)) while a minimum of 1 is required by LinearRegression.",
     "output_type": "error",
     "traceback": [
      "\u001b[1;31m---------------------------------------------------------------------------\u001b[0m",
      "\u001b[1;31mValueError\u001b[0m                                Traceback (most recent call last)",
      "Cell \u001b[1;32mIn[7], line 9\u001b[0m\n\u001b[0;32m      7\u001b[0m non_data \u001b[38;5;241m=\u001b[39m train_val4\u001b[38;5;241m.\u001b[39mloc[condition]\n\u001b[0;32m      8\u001b[0m x \u001b[38;5;241m=\u001b[39m non_data\u001b[38;5;241m.\u001b[39mdrop([\u001b[38;5;124m'\u001b[39m\u001b[38;5;124mduration\u001b[39m\u001b[38;5;124m'\u001b[39m, \u001b[38;5;124m'\u001b[39m\u001b[38;5;124mid\u001b[39m\u001b[38;5;124m'\u001b[39m, \u001b[38;5;124m'\u001b[39m\u001b[38;5;124mday\u001b[39m\u001b[38;5;124m'\u001b[39m], axis\u001b[38;5;241m=\u001b[39m\u001b[38;5;241m1\u001b[39m)\n\u001b[1;32m----> 9\u001b[0m pre_data \u001b[38;5;241m=\u001b[39m \u001b[43mmodel\u001b[49m\u001b[38;5;241;43m.\u001b[39;49m\u001b[43mpredict\u001b[49m\u001b[43m(\u001b[49m\u001b[43mx\u001b[49m\u001b[43m)\u001b[49m\n\u001b[0;32m     10\u001b[0m train_val4\u001b[38;5;241m.\u001b[39mloc[condition, \u001b[38;5;124m'\u001b[39m\u001b[38;5;124mduration\u001b[39m\u001b[38;5;124m'\u001b[39m] \u001b[38;5;241m=\u001b[39m pre_data\n\u001b[0;32m     11\u001b[0m x4\u001b[38;5;241m=\u001b[39mtrain_val4\u001b[38;5;241m.\u001b[39mdrop([\u001b[38;5;124m'\u001b[39m\u001b[38;5;124mid\u001b[39m\u001b[38;5;124m'\u001b[39m,\u001b[38;5;124m'\u001b[39m\u001b[38;5;124mday\u001b[39m\u001b[38;5;124m'\u001b[39m,\u001b[38;5;124m'\u001b[39m\u001b[38;5;124my\u001b[39m\u001b[38;5;124m'\u001b[39m], axis\u001b[38;5;241m=\u001b[39m\u001b[38;5;241m1\u001b[39m)\n",
      "File \u001b[1;32m~\\anaconda3\\Lib\\site-packages\\sklearn\\linear_model\\_base.py:306\u001b[0m, in \u001b[0;36mLinearModel.predict\u001b[1;34m(self, X)\u001b[0m\n\u001b[0;32m    292\u001b[0m \u001b[38;5;28;01mdef\u001b[39;00m \u001b[38;5;21mpredict\u001b[39m(\u001b[38;5;28mself\u001b[39m, X):\n\u001b[0;32m    293\u001b[0m \u001b[38;5;250m    \u001b[39m\u001b[38;5;124;03m\"\"\"\u001b[39;00m\n\u001b[0;32m    294\u001b[0m \u001b[38;5;124;03m    Predict using the linear model.\u001b[39;00m\n\u001b[0;32m    295\u001b[0m \n\u001b[1;32m   (...)\u001b[0m\n\u001b[0;32m    304\u001b[0m \u001b[38;5;124;03m        Returns predicted values.\u001b[39;00m\n\u001b[0;32m    305\u001b[0m \u001b[38;5;124;03m    \"\"\"\u001b[39;00m\n\u001b[1;32m--> 306\u001b[0m     \u001b[38;5;28;01mreturn\u001b[39;00m \u001b[38;5;28;43mself\u001b[39;49m\u001b[38;5;241;43m.\u001b[39;49m\u001b[43m_decision_function\u001b[49m\u001b[43m(\u001b[49m\u001b[43mX\u001b[49m\u001b[43m)\u001b[49m\n",
      "File \u001b[1;32m~\\anaconda3\\Lib\\site-packages\\sklearn\\linear_model\\_base.py:285\u001b[0m, in \u001b[0;36mLinearModel._decision_function\u001b[1;34m(self, X)\u001b[0m\n\u001b[0;32m    282\u001b[0m \u001b[38;5;28;01mdef\u001b[39;00m \u001b[38;5;21m_decision_function\u001b[39m(\u001b[38;5;28mself\u001b[39m, X):\n\u001b[0;32m    283\u001b[0m     check_is_fitted(\u001b[38;5;28mself\u001b[39m)\n\u001b[1;32m--> 285\u001b[0m     X \u001b[38;5;241m=\u001b[39m \u001b[38;5;28;43mself\u001b[39;49m\u001b[38;5;241;43m.\u001b[39;49m\u001b[43m_validate_data\u001b[49m\u001b[43m(\u001b[49m\u001b[43mX\u001b[49m\u001b[43m,\u001b[49m\u001b[43m \u001b[49m\u001b[43maccept_sparse\u001b[49m\u001b[38;5;241;43m=\u001b[39;49m\u001b[43m[\u001b[49m\u001b[38;5;124;43m\"\u001b[39;49m\u001b[38;5;124;43mcsr\u001b[39;49m\u001b[38;5;124;43m\"\u001b[39;49m\u001b[43m,\u001b[49m\u001b[43m \u001b[49m\u001b[38;5;124;43m\"\u001b[39;49m\u001b[38;5;124;43mcsc\u001b[39;49m\u001b[38;5;124;43m\"\u001b[39;49m\u001b[43m,\u001b[49m\u001b[43m \u001b[49m\u001b[38;5;124;43m\"\u001b[39;49m\u001b[38;5;124;43mcoo\u001b[39;49m\u001b[38;5;124;43m\"\u001b[39;49m\u001b[43m]\u001b[49m\u001b[43m,\u001b[49m\u001b[43m \u001b[49m\u001b[43mreset\u001b[49m\u001b[38;5;241;43m=\u001b[39;49m\u001b[38;5;28;43;01mFalse\u001b[39;49;00m\u001b[43m)\u001b[49m\n\u001b[0;32m    286\u001b[0m     coef_ \u001b[38;5;241m=\u001b[39m \u001b[38;5;28mself\u001b[39m\u001b[38;5;241m.\u001b[39mcoef_\n\u001b[0;32m    287\u001b[0m     \u001b[38;5;28;01mif\u001b[39;00m coef_\u001b[38;5;241m.\u001b[39mndim \u001b[38;5;241m==\u001b[39m \u001b[38;5;241m1\u001b[39m:\n",
      "File \u001b[1;32m~\\anaconda3\\Lib\\site-packages\\sklearn\\base.py:633\u001b[0m, in \u001b[0;36mBaseEstimator._validate_data\u001b[1;34m(self, X, y, reset, validate_separately, cast_to_ndarray, **check_params)\u001b[0m\n\u001b[0;32m    631\u001b[0m         out \u001b[38;5;241m=\u001b[39m X, y\n\u001b[0;32m    632\u001b[0m \u001b[38;5;28;01melif\u001b[39;00m \u001b[38;5;129;01mnot\u001b[39;00m no_val_X \u001b[38;5;129;01mand\u001b[39;00m no_val_y:\n\u001b[1;32m--> 633\u001b[0m     out \u001b[38;5;241m=\u001b[39m \u001b[43mcheck_array\u001b[49m\u001b[43m(\u001b[49m\u001b[43mX\u001b[49m\u001b[43m,\u001b[49m\u001b[43m \u001b[49m\u001b[43minput_name\u001b[49m\u001b[38;5;241;43m=\u001b[39;49m\u001b[38;5;124;43m\"\u001b[39;49m\u001b[38;5;124;43mX\u001b[39;49m\u001b[38;5;124;43m\"\u001b[39;49m\u001b[43m,\u001b[49m\u001b[43m \u001b[49m\u001b[38;5;241;43m*\u001b[39;49m\u001b[38;5;241;43m*\u001b[39;49m\u001b[43mcheck_params\u001b[49m\u001b[43m)\u001b[49m\n\u001b[0;32m    634\u001b[0m \u001b[38;5;28;01melif\u001b[39;00m no_val_X \u001b[38;5;129;01mand\u001b[39;00m \u001b[38;5;129;01mnot\u001b[39;00m no_val_y:\n\u001b[0;32m    635\u001b[0m     out \u001b[38;5;241m=\u001b[39m _check_y(y, \u001b[38;5;241m*\u001b[39m\u001b[38;5;241m*\u001b[39mcheck_params)\n",
      "File \u001b[1;32m~\\anaconda3\\Lib\\site-packages\\sklearn\\utils\\validation.py:1087\u001b[0m, in \u001b[0;36mcheck_array\u001b[1;34m(array, accept_sparse, accept_large_sparse, dtype, order, copy, force_writeable, force_all_finite, ensure_2d, allow_nd, ensure_min_samples, ensure_min_features, estimator, input_name)\u001b[0m\n\u001b[0;32m   1085\u001b[0m     n_samples \u001b[38;5;241m=\u001b[39m _num_samples(array)\n\u001b[0;32m   1086\u001b[0m     \u001b[38;5;28;01mif\u001b[39;00m n_samples \u001b[38;5;241m<\u001b[39m ensure_min_samples:\n\u001b[1;32m-> 1087\u001b[0m         \u001b[38;5;28;01mraise\u001b[39;00m \u001b[38;5;167;01mValueError\u001b[39;00m(\n\u001b[0;32m   1088\u001b[0m             \u001b[38;5;124m\"\u001b[39m\u001b[38;5;124mFound array with \u001b[39m\u001b[38;5;132;01m%d\u001b[39;00m\u001b[38;5;124m sample(s) (shape=\u001b[39m\u001b[38;5;132;01m%s\u001b[39;00m\u001b[38;5;124m) while a\u001b[39m\u001b[38;5;124m\"\u001b[39m\n\u001b[0;32m   1089\u001b[0m             \u001b[38;5;124m\"\u001b[39m\u001b[38;5;124m minimum of \u001b[39m\u001b[38;5;132;01m%d\u001b[39;00m\u001b[38;5;124m is required\u001b[39m\u001b[38;5;132;01m%s\u001b[39;00m\u001b[38;5;124m.\u001b[39m\u001b[38;5;124m\"\u001b[39m\n\u001b[0;32m   1090\u001b[0m             \u001b[38;5;241m%\u001b[39m (n_samples, array\u001b[38;5;241m.\u001b[39mshape, ensure_min_samples, context)\n\u001b[0;32m   1091\u001b[0m         )\n\u001b[0;32m   1093\u001b[0m \u001b[38;5;28;01mif\u001b[39;00m ensure_min_features \u001b[38;5;241m>\u001b[39m \u001b[38;5;241m0\u001b[39m \u001b[38;5;129;01mand\u001b[39;00m array\u001b[38;5;241m.\u001b[39mndim \u001b[38;5;241m==\u001b[39m \u001b[38;5;241m2\u001b[39m:\n\u001b[0;32m   1094\u001b[0m     n_features \u001b[38;5;241m=\u001b[39m array\u001b[38;5;241m.\u001b[39mshape[\u001b[38;5;241m1\u001b[39m]\n",
      "\u001b[1;31mValueError\u001b[0m: Found array with 0 sample(s) (shape=(0, 37)) while a minimum of 1 is required by LinearRegression."
     ]
    }
   ],
   "source": [
    "train_val4 = train_val.dropna()\n",
    "pre_x = train_val4.drop(['duration','id','day'],axis=1)\n",
    "pre_t = train_val4['duration']\n",
    "model = LinearRegression()\n",
    "model.fit(pre_x, pre_t)\n",
    "condition = train_val4['duration'].isnull()\n",
    "non_data = train_val4.loc[condition]\n",
    "x = non_data.drop(['duration', 'id', 'day'], axis=1)\n",
    "pre_data = model.predict(x)\n",
    "train_val4.loc[condition, 'duration'] = pre_data\n",
    "x4=train_val4.drop(['id','day','y'], axis=1)\n",
    "t4=train_val4['y']"
   ]
  },
  {
   "cell_type": "code",
   "execution_count": null,
   "id": "3c454988-2669-45c3-bd9e-affdb01005ce",
   "metadata": {},
   "outputs": [],
   "source": [
    "def learn(x,t):\n",
    "    x_train,x_val,y_train,y_val=train_test_split(x,t,test_size=0.2,random_state=8)\n",
    "    y_train=pd.DataFrame(y_train)\n",
    "    y_val=pd.DataFrame(y_val)\n",
    "    model=DecisionTreeClassifier(max_depth=8,random_state=9,class_weight='balanced')\n",
    "    model.fit(x_train,y_train)\n",
    "    train_score=model.score(x_train,y_train)\n",
    "    val_score=model.score(x_val,y_val)\n",
    "    return train_score,val_score\n"
   ]
  },
  {
   "cell_type": "code",
   "execution_count": null,
   "id": "7d977ba1-6e3e-4f5c-88db-4253bf5f0ddc",
   "metadata": {},
   "outputs": [],
   "source": [
    "x=train_val.drop(['y','id','day'],axis=1)\n",
    "t=train_val['y']"
   ]
  },
  {
   "cell_type": "code",
   "execution_count": null,
   "id": "05ef6b52-653e-4fd9-8852-fc836f49fe41",
   "metadata": {
    "scrolled": true
   },
   "outputs": [],
   "source": [
    "train_val.corr()['y']"
   ]
  },
  {
   "cell_type": "code",
   "execution_count": null,
   "id": "0671f4ee-ee2d-4ccf-ad6d-0923fd63213d",
   "metadata": {
    "scrolled": true
   },
   "outputs": [],
   "source": [
    "a,b=learn(x,t)"
   ]
  },
  {
   "cell_type": "code",
   "execution_count": null,
   "id": "ec7b7c15-b042-4c9c-8794-8454866cbac7",
   "metadata": {},
   "outputs": [],
   "source": [
    "print(a,b)"
   ]
  },
  {
   "cell_type": "code",
   "execution_count": null,
   "id": "ff8b06b6-2798-4597-bf5e-5bafb48ebd40",
   "metadata": {},
   "outputs": [],
   "source": [
    "corr_train_val = train_val.corr()['y'].sort_values(ascending=False).map(abs)\n",
    "corr_train_val = corr_train_val.drop(index = 'y')\n",
    "corr_train_val"
   ]
  },
  {
   "cell_type": "code",
   "execution_count": null,
   "id": "57a6901c-eb5d-4be6-af3b-af3cd4f37b64",
   "metadata": {},
   "outputs": [],
   "source": [
    "x.columns"
   ]
  },
  {
   "cell_type": "code",
   "execution_count": null,
   "id": "6fcb5173-cd96-4c3c-bee1-2096a71763ca",
   "metadata": {},
   "outputs": [],
   "source": [
    "x1 = x.drop(columns = ['job_services','month_mar','month_dec','education_secondary', 'job_unknown', 'month_sep', 'contact_telephone', 'month_oct', 'month_jul'])"
   ]
  },
  {
   "cell_type": "code",
   "execution_count": null,
   "id": "01eb9dc7-bbf0-40bd-8520-7fdf6ac499ef",
   "metadata": {},
   "outputs": [],
   "source": [
    "learn(x1,t)"
   ]
  },
  {
   "cell_type": "code",
   "execution_count": null,
   "id": "a3ab0bf6-aea0-4a91-803b-5ec7e15992f4",
   "metadata": {
    "scrolled": true
   },
   "outputs": [],
   "source": [
    "tuple(corr_train_val.index)\n",
    "current_elements = []\n",
    "for element in tuple(corr_train_val.index):\n",
    "    current_elements.append(element) \n",
    "    print(learn(train_val[current_elements],t))"
   ]
  },
  {
   "cell_type": "code",
   "execution_count": null,
   "id": "d59e6931-b0f5-4913-ad8d-1e802a1beff2",
   "metadata": {},
   "outputs": [],
   "source": [
    "for j in range(1,20):\n",
    "    print(j)\n",
    "    print(learn(x,t, max_depth=j))"
   ]
  },
  {
   "cell_type": "code",
   "execution_count": null,
   "id": "af5fdb90-92ff-4924-a968-fe3e31a4b9a4",
   "metadata": {},
   "outputs": [],
   "source": [
    "learn(x,t)"
   ]
  },
  {
   "cell_type": "code",
   "execution_count": null,
   "id": "b2697ee0-0dca-4e00-a3ca-2cfabd4d5aba",
   "metadata": {},
   "outputs": [],
   "source": [
    "x2=train_val[['duration', 'housing_yes', 'campaign', 'contact_sending _document']]\n",
    "learn(x2, t)"
   ]
  },
  {
   "cell_type": "code",
   "execution_count": null,
   "id": "c8fa07c4-2200-41f0-819b-08685c3aef82",
   "metadata": {},
   "outputs": [],
   "source": [
    "train_val.plot(kind='scatter',x='duration',y='age')"
   ]
  }
 ],
 "metadata": {
  "kernelspec": {
   "display_name": "Python 3 (ipykernel)",
   "language": "python",
   "name": "python3"
  },
  "language_info": {
   "codemirror_mode": {
    "name": "ipython",
    "version": 3
   },
   "file_extension": ".py",
   "mimetype": "text/x-python",
   "name": "python",
   "nbconvert_exporter": "python",
   "pygments_lexer": "ipython3",
   "version": "3.12.4"
  }
 },
 "nbformat": 4,
 "nbformat_minor": 5
}
