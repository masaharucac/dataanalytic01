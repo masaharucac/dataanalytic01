{
 "cells": [
  {
   "cell_type": "code",
   "execution_count": 1,
   "id": "8545a968-62ae-4388-8609-99c1843c5b1b",
   "metadata": {
    "editable": true,
    "scrolled": true,
    "slideshow": {
     "slide_type": ""
    },
    "tags": []
   },
   "outputs": [
    {
     "data": {
      "text/plain": [
       "duration                     1.000000\n",
       "housing_yes                  0.556899\n",
       "loan_yes                     0.372579\n",
       "y                            0.277575\n",
       "age                          0.207738\n",
       "month_aug                    0.187310\n",
       "month_may                    0.184593\n",
       "marital_single               0.164614\n",
       "previous                     0.143538\n",
       "marital_married              0.115429\n",
       "job_student                  0.107913\n",
       "contact_sending _document    0.087863\n",
       "education_tertiary           0.081769\n",
       "job_blue-collar              0.080727\n",
       "month_jun                    0.065998\n",
       "month_oct                    0.052855\n",
       "job_unknown                  0.046328\n",
       "job_management               0.045735\n",
       "job_unemployed               0.044179\n",
       "month_mar                    0.043775\n",
       "job_housemaid                0.039184\n",
       "education_secondary          0.033989\n",
       "job_retired                  0.033277\n",
       "month_sep                    0.032082\n",
       "amount                       0.030532\n",
       "day                          0.023779\n",
       "job_services                 0.021712\n",
       "campaign                     0.021585\n",
       "month_dec                    0.017984\n",
       "month_feb                    0.017516\n",
       "month_nov                    0.014978\n",
       "job_entrepreneur             0.014454\n",
       "job_self-employed            0.013761\n",
       "job_technician               0.012723\n",
       "default_yes                  0.011425\n",
       "month_jan                    0.009934\n",
       "education_unknown            0.009059\n",
       "id                           0.008333\n",
       "month_jul                    0.005223\n",
       "contact_telephone            0.003610\n",
       "Name: duration, dtype: float64"
      ]
     },
     "execution_count": 1,
     "metadata": {},
     "output_type": "execute_result"
    }
   ],
   "source": [
    "import pandas as pd\n",
    "from sklearn.model_selection import train_test_split\n",
    "from sklearn.covariance import MinCovDet\n",
    "from sklearn import tree\n",
    "from sklearn.preprocessing import StandardScaler\n",
    "\n",
    "df = pd.read_csv('bank_new.csv')\n",
    "df.head()\n",
    "\n",
    "str_col = ['job','marital','education','default','housing','loan','contact','month']\n",
    "\n",
    "dummied_df = pd.get_dummies(df[str_col], drop_first=True)\n",
    "dummied_df.head(3)\n",
    "\n",
    "num_df = df.drop(columns=str_col)\n",
    "df2 = pd.concat([num_df,dummied_df,df[str_col]], axis=1)\n",
    "df2.head()\n",
    "\n",
    "train_val, test = train_test_split(df2,test_size=0.1,random_state=9)\n",
    "train_val.head()\n",
    "\n",
    "train_val.isnull().sum()\n",
    "\n",
    "train_val.corr(numeric_only=True)['duration'].map(abs).sort_values(ascending=False)"
   ]
  },
  {
   "cell_type": "code",
   "execution_count": 2,
   "id": "015dd6a4-f526-4ab4-acee-2f40f5e07d44",
   "metadata": {},
   "outputs": [
    {
     "data": {
      "text/plain": [
       "<Axes: >"
      ]
     },
     "execution_count": 2,
     "metadata": {},
     "output_type": "execute_result"
    },
    {
     "data": {
      "image/png": "[encoded data removed]",
      "text/plain": [
       "<Figure size 640x480 with 1 Axes>"
      ]
     },
     "metadata": {},
     "output_type": "display_data"
    }
   ],
   "source": [
    "lr_df = train_val.drop(columns=str_col).drop(columns='id')\n",
    "lr_train_df = lr_df.dropna()\n",
    "\n",
    "mcd = MinCovDet(random_state=0, support_fraction=0.7)\n",
    "mcd.fit(lr_train_df)\n",
    "\n",
    "distance = pd.Series(mcd.mahalanobis(lr_train_df))\n",
    "distance.plot(kind='box')"
   ]
  },
  {
   "cell_type": "code",
   "execution_count": 3,
   "id": "95f32ad6-938e-4ad3-9f6a-d8b3bfd8f1ef",
   "metadata": {},
   "outputs": [
    {
     "data": {
      "text/plain": [
       "2561"
      ]
     },
     "execution_count": 3,
     "metadata": {},
     "output_type": "execute_result"
    }
   ],
   "source": [
    "no = distance[distance>300000].index\n",
    "no[0]"
   ]
  },
  {
   "cell_type": "code",
   "execution_count": 4,
   "id": "b6607f25-a656-4ba5-b2e6-d8fe3917e376",
   "metadata": {
    "scrolled": true
   },
   "outputs": [
    {
     "data": {
      "text/html": [
       "<div>\n",
       "<style scoped>\n",
       "    .dataframe tbody tr th:only-of-type {\n",
       "        vertical-align: middle;\n",
       "    }\n",
       "\n",
       "    .dataframe tbody tr th {\n",
       "        vertical-align: top;\n",
       "    }\n",
       "\n",
       "    .dataframe thead th {\n",
       "        text-align: right;\n",
       "    }\n",
       "</style>\n",
       "<table border=\"1\" class=\"dataframe\">\n",
       "  <thead>\n",
       "    <tr style=\"text-align: right;\">\n",
       "      <th></th>\n",
       "      <th>age</th>\n",
       "      <th>amount</th>\n",
       "      <th>day</th>\n",
       "      <th>duration</th>\n",
       "      <th>campaign</th>\n",
       "      <th>previous</th>\n",
       "      <th>y</th>\n",
       "      <th>job_blue-collar</th>\n",
       "      <th>job_entrepreneur</th>\n",
       "      <th>job_housemaid</th>\n",
       "      <th>...</th>\n",
       "      <th>month_dec</th>\n",
       "      <th>month_feb</th>\n",
       "      <th>month_jan</th>\n",
       "      <th>month_jul</th>\n",
       "      <th>month_jun</th>\n",
       "      <th>month_mar</th>\n",
       "      <th>month_may</th>\n",
       "      <th>month_nov</th>\n",
       "      <th>month_oct</th>\n",
       "      <th>month_sep</th>\n",
       "    </tr>\n",
       "  </thead>\n",
       "  <tbody>\n",
       "    <tr>\n",
       "      <th>13378</th>\n",
       "      <td>46</td>\n",
       "      <td>0</td>\n",
       "      <td>10</td>\n",
       "      <td>378.293875</td>\n",
       "      <td>1</td>\n",
       "      <td>0</td>\n",
       "      <td>1</td>\n",
       "      <td>False</td>\n",
       "      <td>False</td>\n",
       "      <td>False</td>\n",
       "      <td>...</td>\n",
       "      <td>False</td>\n",
       "      <td>False</td>\n",
       "      <td>False</td>\n",
       "      <td>True</td>\n",
       "      <td>False</td>\n",
       "      <td>False</td>\n",
       "      <td>False</td>\n",
       "      <td>False</td>\n",
       "      <td>False</td>\n",
       "      <td>False</td>\n",
       "    </tr>\n",
       "    <tr>\n",
       "      <th>3800</th>\n",
       "      <td>41</td>\n",
       "      <td>-333</td>\n",
       "      <td>30</td>\n",
       "      <td>300.845752</td>\n",
       "      <td>3</td>\n",
       "      <td>2</td>\n",
       "      <td>0</td>\n",
       "      <td>True</td>\n",
       "      <td>False</td>\n",
       "      <td>False</td>\n",
       "      <td>...</td>\n",
       "      <td>False</td>\n",
       "      <td>False</td>\n",
       "      <td>True</td>\n",
       "      <td>False</td>\n",
       "      <td>False</td>\n",
       "      <td>False</td>\n",
       "      <td>False</td>\n",
       "      <td>False</td>\n",
       "      <td>False</td>\n",
       "      <td>False</td>\n",
       "    </tr>\n",
       "    <tr>\n",
       "      <th>10398</th>\n",
       "      <td>30</td>\n",
       "      <td>5389</td>\n",
       "      <td>6</td>\n",
       "      <td>159.053623</td>\n",
       "      <td>3</td>\n",
       "      <td>0</td>\n",
       "      <td>1</td>\n",
       "      <td>False</td>\n",
       "      <td>False</td>\n",
       "      <td>False</td>\n",
       "      <td>...</td>\n",
       "      <td>False</td>\n",
       "      <td>False</td>\n",
       "      <td>False</td>\n",
       "      <td>False</td>\n",
       "      <td>False</td>\n",
       "      <td>False</td>\n",
       "      <td>False</td>\n",
       "      <td>False</td>\n",
       "      <td>False</td>\n",
       "      <td>False</td>\n",
       "    </tr>\n",
       "    <tr>\n",
       "      <th>23401</th>\n",
       "      <td>39</td>\n",
       "      <td>255</td>\n",
       "      <td>5</td>\n",
       "      <td>334.802583</td>\n",
       "      <td>1</td>\n",
       "      <td>0</td>\n",
       "      <td>0</td>\n",
       "      <td>False</td>\n",
       "      <td>False</td>\n",
       "      <td>False</td>\n",
       "      <td>...</td>\n",
       "      <td>False</td>\n",
       "      <td>False</td>\n",
       "      <td>False</td>\n",
       "      <td>False</td>\n",
       "      <td>False</td>\n",
       "      <td>False</td>\n",
       "      <td>True</td>\n",
       "      <td>False</td>\n",
       "      <td>False</td>\n",
       "      <td>False</td>\n",
       "    </tr>\n",
       "    <tr>\n",
       "      <th>25158</th>\n",
       "      <td>52</td>\n",
       "      <td>556</td>\n",
       "      <td>13</td>\n",
       "      <td>231.375776</td>\n",
       "      <td>6</td>\n",
       "      <td>0</td>\n",
       "      <td>1</td>\n",
       "      <td>False</td>\n",
       "      <td>False</td>\n",
       "      <td>False</td>\n",
       "      <td>...</td>\n",
       "      <td>False</td>\n",
       "      <td>False</td>\n",
       "      <td>False</td>\n",
       "      <td>False</td>\n",
       "      <td>False</td>\n",
       "      <td>False</td>\n",
       "      <td>False</td>\n",
       "      <td>False</td>\n",
       "      <td>False</td>\n",
       "      <td>False</td>\n",
       "    </tr>\n",
       "    <tr>\n",
       "      <th>...</th>\n",
       "      <td>...</td>\n",
       "      <td>...</td>\n",
       "      <td>...</td>\n",
       "      <td>...</td>\n",
       "      <td>...</td>\n",
       "      <td>...</td>\n",
       "      <td>...</td>\n",
       "      <td>...</td>\n",
       "      <td>...</td>\n",
       "      <td>...</td>\n",
       "      <td>...</td>\n",
       "      <td>...</td>\n",
       "      <td>...</td>\n",
       "      <td>...</td>\n",
       "      <td>...</td>\n",
       "      <td>...</td>\n",
       "      <td>...</td>\n",
       "      <td>...</td>\n",
       "      <td>...</td>\n",
       "      <td>...</td>\n",
       "      <td>...</td>\n",
       "    </tr>\n",
       "    <tr>\n",
       "      <th>25725</th>\n",
       "      <td>45</td>\n",
       "      <td>14</td>\n",
       "      <td>18</td>\n",
       "      <td>315.275502</td>\n",
       "      <td>9</td>\n",
       "      <td>5</td>\n",
       "      <td>0</td>\n",
       "      <td>False</td>\n",
       "      <td>False</td>\n",
       "      <td>False</td>\n",
       "      <td>...</td>\n",
       "      <td>False</td>\n",
       "      <td>False</td>\n",
       "      <td>False</td>\n",
       "      <td>False</td>\n",
       "      <td>False</td>\n",
       "      <td>False</td>\n",
       "      <td>True</td>\n",
       "      <td>False</td>\n",
       "      <td>False</td>\n",
       "      <td>False</td>\n",
       "    </tr>\n",
       "    <tr>\n",
       "      <th>9979</th>\n",
       "      <td>59</td>\n",
       "      <td>3694</td>\n",
       "      <td>5</td>\n",
       "      <td>395.617358</td>\n",
       "      <td>10</td>\n",
       "      <td>0</td>\n",
       "      <td>1</td>\n",
       "      <td>False</td>\n",
       "      <td>False</td>\n",
       "      <td>False</td>\n",
       "      <td>...</td>\n",
       "      <td>False</td>\n",
       "      <td>False</td>\n",
       "      <td>False</td>\n",
       "      <td>False</td>\n",
       "      <td>True</td>\n",
       "      <td>False</td>\n",
       "      <td>False</td>\n",
       "      <td>False</td>\n",
       "      <td>False</td>\n",
       "      <td>False</td>\n",
       "    </tr>\n",
       "    <tr>\n",
       "      <th>22584</th>\n",
       "      <td>33</td>\n",
       "      <td>-208</td>\n",
       "      <td>4</td>\n",
       "      <td>424.191814</td>\n",
       "      <td>3</td>\n",
       "      <td>1</td>\n",
       "      <td>0</td>\n",
       "      <td>True</td>\n",
       "      <td>False</td>\n",
       "      <td>False</td>\n",
       "      <td>...</td>\n",
       "      <td>False</td>\n",
       "      <td>False</td>\n",
       "      <td>False</td>\n",
       "      <td>False</td>\n",
       "      <td>False</td>\n",
       "      <td>False</td>\n",
       "      <td>True</td>\n",
       "      <td>False</td>\n",
       "      <td>False</td>\n",
       "      <td>False</td>\n",
       "    </tr>\n",
       "    <tr>\n",
       "      <th>501</th>\n",
       "      <td>55</td>\n",
       "      <td>4746</td>\n",
       "      <td>23</td>\n",
       "      <td>404.106909</td>\n",
       "      <td>3</td>\n",
       "      <td>0</td>\n",
       "      <td>1</td>\n",
       "      <td>False</td>\n",
       "      <td>False</td>\n",
       "      <td>False</td>\n",
       "      <td>...</td>\n",
       "      <td>False</td>\n",
       "      <td>False</td>\n",
       "      <td>False</td>\n",
       "      <td>False</td>\n",
       "      <td>False</td>\n",
       "      <td>False</td>\n",
       "      <td>True</td>\n",
       "      <td>False</td>\n",
       "      <td>False</td>\n",
       "      <td>False</td>\n",
       "    </tr>\n",
       "    <tr>\n",
       "      <th>20828</th>\n",
       "      <td>35</td>\n",
       "      <td>628</td>\n",
       "      <td>29</td>\n",
       "      <td>266.249751</td>\n",
       "      <td>2</td>\n",
       "      <td>0</td>\n",
       "      <td>0</td>\n",
       "      <td>True</td>\n",
       "      <td>False</td>\n",
       "      <td>False</td>\n",
       "      <td>...</td>\n",
       "      <td>False</td>\n",
       "      <td>False</td>\n",
       "      <td>False</td>\n",
       "      <td>False</td>\n",
       "      <td>False</td>\n",
       "      <td>False</td>\n",
       "      <td>True</td>\n",
       "      <td>False</td>\n",
       "      <td>False</td>\n",
       "      <td>False</td>\n",
       "    </tr>\n",
       "  </tbody>\n",
       "</table>\n",
       "<p>18084 rows × 39 columns</p>\n",
       "</div>"
      ],
      "text/plain": [
       "       age  amount  day    duration  campaign  previous  y  job_blue-collar  \\\n",
       "13378   46       0   10  378.293875         1         0  1            False   \n",
       "3800    41    -333   30  300.845752         3         2  0             True   \n",
       "10398   30    5389    6  159.053623         3         0  1            False   \n",
       "23401   39     255    5  334.802583         1         0  0            False   \n",
       "25158   52     556   13  231.375776         6         0  1            False   \n",
       "...    ...     ...  ...         ...       ...       ... ..              ...   \n",
       "25725   45      14   18  315.275502         9         5  0            False   \n",
       "9979    59    3694    5  395.617358        10         0  1            False   \n",
       "22584   33    -208    4  424.191814         3         1  0             True   \n",
       "501     55    4746   23  404.106909         3         0  1            False   \n",
       "20828   35     628   29  266.249751         2         0  0             True   \n",
       "\n",
       "       job_entrepreneur  job_housemaid  ...  month_dec  month_feb  month_jan  \\\n",
       "13378             False          False  ...      False      False      False   \n",
       "3800              False          False  ...      False      False       True   \n",
       "10398             False          False  ...      False      False      False   \n",
       "23401             False          False  ...      False      False      False   \n",
       "25158             False          False  ...      False      False      False   \n",
       "...                 ...            ...  ...        ...        ...        ...   \n",
       "25725             False          False  ...      False      False      False   \n",
       "9979              False          False  ...      False      False      False   \n",
       "22584             False          False  ...      False      False      False   \n",
       "501               False          False  ...      False      False      False   \n",
       "20828             False          False  ...      False      False      False   \n",
       "\n",
       "       month_jul  month_jun  month_mar  month_may  month_nov  month_oct  \\\n",
       "13378       True      False      False      False      False      False   \n",
       "3800       False      False      False      False      False      False   \n",
       "10398      False      False      False      False      False      False   \n",
       "23401      False      False      False       True      False      False   \n",
       "25158      False      False      False      False      False      False   \n",
       "...          ...        ...        ...        ...        ...        ...   \n",
       "25725      False      False      False       True      False      False   \n",
       "9979       False       True      False      False      False      False   \n",
       "22584      False      False      False       True      False      False   \n",
       "501        False      False      False       True      False      False   \n",
       "20828      False      False      False       True      False      False   \n",
       "\n",
       "       month_sep  \n",
       "13378      False  \n",
       "3800       False  \n",
       "10398      False  \n",
       "23401      False  \n",
       "25158      False  \n",
       "...          ...  \n",
       "25725      False  \n",
       "9979       False  \n",
       "22584      False  \n",
       "501        False  \n",
       "20828      False  \n",
       "\n",
       "[18084 rows x 39 columns]"
      ]
     },
     "execution_count": 4,
     "metadata": {},
     "output_type": "execute_result"
    }
   ],
   "source": [
    "lr_train_df"
   ]
  },
  {
   "cell_type": "code",
   "execution_count": 5,
   "id": "d6fdc926-3b83-4a21-96a0-cf5595b43867",
   "metadata": {},
   "outputs": [
    {
     "data": {
      "text/html": [
       "<div>\n",
       "<style scoped>\n",
       "    .dataframe tbody tr th:only-of-type {\n",
       "        vertical-align: middle;\n",
       "    }\n",
       "\n",
       "    .dataframe tbody tr th {\n",
       "        vertical-align: top;\n",
       "    }\n",
       "\n",
       "    .dataframe thead th {\n",
       "        text-align: right;\n",
       "    }\n",
       "</style>\n",
       "<table border=\"1\" class=\"dataframe\">\n",
       "  <thead>\n",
       "    <tr style=\"text-align: right;\">\n",
       "      <th></th>\n",
       "      <th>age</th>\n",
       "      <th>amount</th>\n",
       "      <th>day</th>\n",
       "      <th>duration</th>\n",
       "      <th>campaign</th>\n",
       "      <th>previous</th>\n",
       "      <th>y</th>\n",
       "      <th>job_blue-collar</th>\n",
       "      <th>job_entrepreneur</th>\n",
       "      <th>job_housemaid</th>\n",
       "      <th>...</th>\n",
       "      <th>month_dec</th>\n",
       "      <th>month_feb</th>\n",
       "      <th>month_jan</th>\n",
       "      <th>month_jul</th>\n",
       "      <th>month_jun</th>\n",
       "      <th>month_mar</th>\n",
       "      <th>month_may</th>\n",
       "      <th>month_nov</th>\n",
       "      <th>month_oct</th>\n",
       "      <th>month_sep</th>\n",
       "    </tr>\n",
       "  </thead>\n",
       "  <tbody>\n",
       "    <tr>\n",
       "      <th>3140</th>\n",
       "      <td>40</td>\n",
       "      <td>543</td>\n",
       "      <td>2</td>\n",
       "      <td>1435.48804</td>\n",
       "      <td>2</td>\n",
       "      <td>275</td>\n",
       "      <td>0</td>\n",
       "      <td>False</td>\n",
       "      <td>False</td>\n",
       "      <td>False</td>\n",
       "      <td>...</td>\n",
       "      <td>False</td>\n",
       "      <td>True</td>\n",
       "      <td>False</td>\n",
       "      <td>False</td>\n",
       "      <td>False</td>\n",
       "      <td>False</td>\n",
       "      <td>False</td>\n",
       "      <td>False</td>\n",
       "      <td>False</td>\n",
       "      <td>False</td>\n",
       "    </tr>\n",
       "  </tbody>\n",
       "</table>\n",
       "<p>1 rows × 39 columns</p>\n",
       "</div>"
      ],
      "text/plain": [
       "      age  amount  day    duration  campaign  previous  y  job_blue-collar  \\\n",
       "3140   40     543    2  1435.48804         2       275  0            False   \n",
       "\n",
       "      job_entrepreneur  job_housemaid  ...  month_dec  month_feb  month_jan  \\\n",
       "3140             False          False  ...      False       True      False   \n",
       "\n",
       "      month_jul  month_jun  month_mar  month_may  month_nov  month_oct  \\\n",
       "3140      False      False      False      False      False      False   \n",
       "\n",
       "      month_sep  \n",
       "3140      False  \n",
       "\n",
       "[1 rows x 39 columns]"
      ]
     },
     "execution_count": 5,
     "metadata": {},
     "output_type": "execute_result"
    }
   ],
   "source": [
    "no = lr_train_df.iloc[no[0]:(no[0]+1),:]\n",
    "no"
   ]
  },
  {
   "cell_type": "code",
   "execution_count": 6,
   "id": "e88546a1-961f-4d79-8087-17a671aafa66",
   "metadata": {},
   "outputs": [],
   "source": [
    "def learn(x,y,i):\n",
    "    x_train, x_val, y_train, y_val = train_test_split(x,y,random_state=13,test_size=0.2)\n",
    "    datas = [x_train, x_val, y_train, y_val]\n",
    "    model = tree.DecisionTreeClassifier(max_depth=i, random_state=0, class_weight='balanced')\n",
    "    model.fit(x_train, y_train)\n",
    "    sc1 = model.score(x_train, y_train)\n",
    "    sc2 = model.score(x_val, y_val)\n",
    "    return sc1,sc2,model,datas"
   ]
  },
  {
   "cell_type": "code",
   "execution_count": 7,
   "id": "3f56e73b-54bd-4224-9a95-d9d7d160236a",
   "metadata": {},
   "outputs": [],
   "source": [
    "lr_train_df = lr_train_df.drop(index=no.index)"
   ]
  },
  {
   "cell_type": "code",
   "execution_count": 8,
   "id": "77bff695-ee4c-4160-8a35-c29c04eca9af",
   "metadata": {},
   "outputs": [],
   "source": [
    "lr_col = ['housing_yes','loan_yes','age','marital_single','previous']\n",
    "x = lr_train_df[lr_col]\n",
    "y = lr_train_df['duration']"
   ]
  },
  {
   "cell_type": "code",
   "execution_count": 9,
   "id": "79655d31-f66d-4663-89cd-72b5ec4a8ffa",
   "metadata": {
    "scrolled": true
   },
   "outputs": [
    {
     "data": {
      "text/plain": [
       "0.732676791500336"
      ]
     },
     "execution_count": 9,
     "metadata": {},
     "output_type": "execute_result"
    }
   ],
   "source": [
    "from sklearn.linear_model import LinearRegression\n",
    "lr = LinearRegression()\n",
    "lr.fit(x,y)\n",
    "lr.score(x,y)"
   ]
  },
  {
   "cell_type": "code",
   "execution_count": 10,
   "id": "5a71b3de-9145-4122-8c33-7b38616d9c1a",
   "metadata": {
    "scrolled": true
   },
   "outputs": [],
   "source": [
    "pred_df = lr_df.loc[lr_df['duration'].isnull(),lr_col]\n",
    "pred = lr.predict(pred_df)\n",
    "lr_df.loc[lr_df['duration'].isnull(),'duration'] = pred\n",
    "train_val2 = lr_df"
   ]
  },
  {
   "cell_type": "code",
   "execution_count": 11,
   "id": "e7993f5c-92fb-40c1-8219-51ea1fcb78e6",
   "metadata": {},
   "outputs": [
    {
     "data": {
      "text/plain": [
       "<Axes: ylabel='Frequency'>"
      ]
     },
     "execution_count": 11,
     "metadata": {},
     "output_type": "execute_result"
    },
    {
     "data": {
      "image/png": "[encoded data removed]",
      "text/plain": [
       "<Figure size 640x480 with 1 Axes>"
      ]
     },
     "metadata": {},
     "output_type": "display_data"
    }
   ],
   "source": [
    "train_val2.loc[train_val2['y']==1, 'duration'].plot(kind='hist')\n",
    "train_val2.loc[train_val2['y']==0, 'duration'].plot(kind='hist', alpha=0.8)"
   ]
  },
  {
   "cell_type": "code",
   "execution_count": 12,
   "id": "21d09226-637b-48fe-9f87-e5fd8fe6f1fa",
   "metadata": {},
   "outputs": [],
   "source": [
    "x = train_val2.drop(['day','y'], axis=1)\n",
    "y = train_val2[['y']]"
   ]
  },
  {
   "cell_type": "code",
   "execution_count": 13,
   "id": "5012f28a-d290-44f1-97a1-4f9e38d7ef45",
   "metadata": {
    "scrolled": true
   },
   "outputs": [
    {
     "name": "stdout",
     "output_type": "stream",
     "text": [
      "1 0.7466209297562973 0.7476960884702027\n",
      "2 0.7466209297562973 0.7476960884702027\n",
      "3 0.7423202949006759 0.7442146221585091\n",
      "4 0.7423202949006759 0.7442146221585091\n",
      "5 0.7608027851730493 0.7571165267253738\n",
      "6 0.7463137415523244 0.7376612738070858\n",
      "7 0.7797460577513824 0.7673561335244726\n",
      "8 0.806010649191071 0.7839442965390129\n",
      "9 0.8176838009420438 0.7882449313946345\n",
      "10 0.8414396887159533 0.7978701617857874\n",
      "11 0.8549559696907639 0.791726397706328\n",
      "12 0.8697010034814663 0.7892688920745443\n",
      "13 0.8855211959860741 0.7843538808109769\n",
      "14 0.9012901904566865 0.7792340774114274\n",
      "15 0.915523243907434 0.7804628302273193\n",
      "16 0.9296539012901904 0.7804628302273193\n",
      "17 0.942965390129019 0.7773909481875896\n",
      "18 0.9513106696702847 0.7747286504198239\n",
      "19 0.962113454843334 0.7778005324595536\n"
     ]
    }
   ],
   "source": [
    "for i in range(1,20):\n",
    "    sc1, sc2, model, datas = learn(x,y,i)\n",
    "    print(i,sc1,sc2)"
   ]
  },
  {
   "cell_type": "code",
   "execution_count": 14,
   "id": "601b1f17-c2a8-45fb-a9e1-bd345f611cd5",
   "metadata": {
    "scrolled": true
   },
   "outputs": [],
   "source": [
    "sc1, sc2, model, datas = learn(x,y,9)"
   ]
  },
  {
   "cell_type": "code",
   "execution_count": 16,
   "id": "c7e480dc-0392-4b5d-b6bf-5ae0b02cd48d",
   "metadata": {},
   "outputs": [
    {
     "name": "stdout",
     "output_type": "stream",
     "text": [
      "[0 1 0 ... 0 1 1]\n",
      "[0 1 0 ... 0 1 0]\n",
      "pred     0     1\n",
      "true            \n",
      "0     2628   755\n",
      "1      279  1221\n"
     ]
    }
   ],
   "source": [
    "import pandas as pd\n",
    "\n",
    "# datas = [x_train, x_val, y_train, y_val]\n",
    "def syukei(model, datas, flag=False):\n",
    "    if flag:\n",
    "        pre = model.predict(datas[0]).flatten()  # 予測値を一次元に変換\n",
    "        y_val = datas[2].values.flatten()  # 実際の値を一次元に変換\n",
    "    else:\n",
    "        pre = model.predict(datas[1]).flatten()  # 予測値を一次元に変換\n",
    "        y_val = datas[3].values.flatten()  # 実際の値を一次元に変換\n",
    "    \n",
    "    print(pre)\n",
    "    print(y_val)\n",
    "    \n",
    "    data = {\n",
    "        'pred': pre,\n",
    "        'true': y_val\n",
    "    }\n",
    "    tmp = pd.DataFrame(data)\n",
    "    return tmp, pd.pivot_table(tmp, index='true', columns='pred', values='true', aggfunc=len)\n",
    "\n",
    "# syukei 関数の呼び出し\n",
    "tmp, a = syukei(model, datas, False)\n",
    "print(a)\n"
   ]
  },
  {
   "cell_type": "code",
   "execution_count": 15,
   "id": "438e3736-27dc-4006-a1f0-eeace185ad2e",
   "metadata": {
    "scrolled": true
   },
   "outputs": [
    {
     "data": {
      "text/plain": [
       "0.7755252488020641"
      ]
     },
     "execution_count": 15,
     "metadata": {},
     "output_type": "execute_result"
    }
   ],
   "source": [
    "test2 = test.copy()\n",
    "is_null = test2['duration'].isnull()\n",
    "test_train_df = test2.dropna()\n",
    "lr = LinearRegression()\n",
    "lr.fit(test_train_df[lr_col],test_train_df['duration'])\n",
    "test2.loc[is_null,'duration'] = lr.predict(test2.loc[is_null,lr_col])\n",
    "x_test = test2.drop(['day','y','id'], axis=1)\n",
    "x_test = x_test.drop(columns=str_col)\n",
    "y_test = test2[['y']]\n",
    "model.score(x_test,y_test)"
   ]
  },
  {
   "cell_type": "code",
   "execution_count": null,
   "id": "91facfc7-74cb-4276-989e-8d38a5d141c8",
   "metadata": {},
   "outputs": [],
   "source": [
    "sc = StandardScaler()\n",
    "tmp2 =  train_val2\n",
    "sc_data = sc.fit_transform(tmp2)\n",
    "sc_df = pd.DataFrame(sc_data, columns=tmp2.columns, index=tmp2.index)\n",
    "pre = model.predict(sc_df.drop(['day','y'], axis=1))\n",
    "target = tmp2['y']\n",
    "true = (pre==target)\n",
    "false = (pre!=target)\n",
    "true_df = sc_df.loc[true]\n",
    "false_df = sc_df.loc[false]\n",
    "temp2 = pd.concat([true_df, false_df], axis=1)\n",
    "temp2.plot(kind='bar')"
   ]
  },
  {
   "cell_type": "code",
   "execution_count": null,
   "id": "4e3cbb9b-3e0e-48cc-9d89-d66530f0314e",
   "metadata": {},
   "outputs": [],
   "source": [
    "print(train_val2.groupby('loan')['y'].mean())\n",
    "print(train_val2.groupby('housing')['y'].mean())\n"
   ]
  },
  {
   "cell_type": "code",
   "execution_count": null,
   "id": "34c16e16-e623-4e0a-9a6e-774f99c8635d",
   "metadata": {},
   "outputs": [],
   "source": [
    "train_val3 = train_val2.copy()\n",
    "train_val3['du*hou'] = train_val3['duration']*train_val3['housing_yes']\n",
    "train_val3['du*loan'] = train_val3['duration']*train_val3['loan_yes']\n",
    "train_val3['du*age'] = train_val3['duration']*train_val3['age']\n"
   ]
  },
  {
   "cell_type": "code",
   "execution_count": null,
   "id": "f92e1c60-ae45-4b08-a61b-01613feb1a8b",
   "metadata": {},
   "outputs": [],
   "source": [
    "t = train_val3['y']\n",
    "monthcol = ['month_aug',\n",
    "       'month_dec', 'month_feb', 'month_jan', 'month_jul', 'month_jun',\n",
    "       'month_mar', 'month_may', 'month_nov', 'month_oct', 'month_sep']\n",
    "jobcol=['job_entrepreneur', 'job_housemaid', 'job_management', 'job_retired',\n",
    "       'job_self-employed', 'job_services', 'job_student', 'job_technician',\n",
    "       'job_unemployed', 'job_unknown']\n",
    "x = x.drop(jobcol, axis=1)\n",
    "x = x.drop(monthcol, axis=1)\n",
    "x = x.drop(['id','y','during',])\n"
   ]
  },
  {
   "cell_type": "code",
   "execution_count": null,
   "id": "0ce5ad03-af0d-48e3-b20d-241fdcab71f5",
   "metadata": {},
   "outputs": [],
   "source": [
    "for i in range(5,15):\n",
    "    s1,s2,datas,model = learn(x,t,i)\n",
    "    print(i,s1,s2)"
   ]
  },
  {
   "cell_type": "code",
   "execution_count": null,
   "id": "76e5f83c-97ed-4c9c-ad9b-a4de0046101a",
   "metadata": {},
   "outputs": [],
   "source": [
    "s1, s2, datas, model = learn(x,t,9)\n",
    "tmp, a = syukei(model, datas, False)\n",
    "a"
   ]
  },
  {
   "cell_type": "code",
   "execution_count": null,
   "id": "42ff533e-5e04-4a3a-a3da-b882ca81a9cf",
   "metadata": {},
   "outputs": [],
   "source": [
    "pd.Series(model.feature_importances_, index=x.columns)\n"
   ]
  },
  {
   "cell_type": "code",
   "execution_count": null,
   "id": "84cbf8c1-475b-4a0f-bdf2-ac6598257054",
   "metadata": {},
   "outputs": [],
   "source": [
    "i=9\n",
    "model = tree.DecisionTreeClassifier(random_state=i, max_deptj=i, class_weight='balanced')\n",
    "model.fit(x,t)"
   ]
  },
  {
   "cell_type": "code",
   "execution_count": null,
   "id": "3108692c-43e3-4a36-9cea-ce0a519d66e9",
   "metadata": {},
   "outputs": [],
   "source": [
    "test2 = test.copy()\n",
    "isnull = test['duration'].isnull()\n",
    "if isnull.sum()>0:\n",
    "    temp_x = test2.loc[isnull,['housing_yes','loan_yes','age','marital_single','job_student']]\n",
    "    pred_d = model_linear.predict(temp_x)\n",
    "    test2.loc[isnull,'duration'] = pred_d\n",
    "test2['du*hou'] = test2['duration']*test2['housing_yes']\n",
    "test2['du*loan'] = test2['duration']*test2['loan_yes']\n",
    "test2['du*age'] = test2['duration']*test2['age']\n",
    "x_test = test2.drop(columns=['y','id','day'])\n",
    "x_test = x_test.drop(monthcol, axis=1)\n",
    "x_test = x_test.drop(jobcol, axis=1)"
   ]
  },
  {
   "cell_type": "code",
   "execution_count": null,
   "id": "b5b3a754-b200-46da-bc2b-15d57cd4cea2",
   "metadata": {},
   "outputs": [],
   "source": []
  },
  {
   "cell_type": "code",
   "execution_count": null,
   "id": "2f307ffd-0f58-4f35-8565-e0bbcf9b94ac",
   "metadata": {},
   "outputs": [],
   "source": []
  }
 ],
 "metadata": {
  "kernelspec": {
   "display_name": "Python 3 (ipykernel)",
   "language": "python",
   "name": "python3"
  },
  "language_info": {
   "codemirror_mode": {
    "name": "ipython",
    "version": 3
   },
   "file_extension": ".py",
   "mimetype": "text/x-python",
   "name": "python",
   "nbconvert_exporter": "python",
   "pygments_lexer": "ipython3",
   "version": "3.12.4"
  }
 },
 "nbformat": 4,
 "nbformat_minor": 5
}
