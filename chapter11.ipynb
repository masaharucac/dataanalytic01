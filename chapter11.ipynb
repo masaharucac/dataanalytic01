{
 "cells": [
  {
   "cell_type": "markdown",
   "id": "baa38daa-ddf3-4e2f-a405-2c200d61ce42",
   "metadata": {},
   "source": []
  },
  {
   "cell_type": "code",
   "execution_count": 2,
   "id": "ae6f3d64-c09a-4293-9edd-05d5df508407",
   "metadata": {},
   "outputs": [],
   "source": [
    "import pandas as pd\n",
    "from sklearn.model_selection import train_test_split\n",
    "%matplotlib inline\n",
    "from sklearn.preprocessing import StandardScaler"
   ]
  },
  {
   "cell_type": "code",
   "execution_count": 3,
   "id": "ec196bc2-77bc-46f4-85c2-414cabcc7d63",
   "metadata": {
    "scrolled": true
   },
   "outputs": [
    {
     "data": {
      "text/html": [
       "<div>\n",
       "<style scoped>\n",
       "    .dataframe tbody tr th:only-of-type {\n",
       "        vertical-align: middle;\n",
       "    }\n",
       "\n",
       "    .dataframe tbody tr th {\n",
       "        vertical-align: top;\n",
       "    }\n",
       "\n",
       "    .dataframe thead th {\n",
       "        text-align: right;\n",
       "    }\n",
       "</style>\n",
       "<table border=\"1\" class=\"dataframe\">\n",
       "  <thead>\n",
       "    <tr style=\"text-align: right;\">\n",
       "      <th></th>\n",
       "      <th>CRIME</th>\n",
       "      <th>ZN</th>\n",
       "      <th>INDUS</th>\n",
       "      <th>CHAS</th>\n",
       "      <th>NOX</th>\n",
       "      <th>RM</th>\n",
       "      <th>AGE</th>\n",
       "      <th>DIS</th>\n",
       "      <th>RAD</th>\n",
       "      <th>TAX</th>\n",
       "      <th>PTRATIO</th>\n",
       "      <th>B</th>\n",
       "      <th>LSTAT</th>\n",
       "      <th>PRICE</th>\n",
       "    </tr>\n",
       "  </thead>\n",
       "  <tbody>\n",
       "    <tr>\n",
       "      <th>0</th>\n",
       "      <td>high</td>\n",
       "      <td>0.0</td>\n",
       "      <td>18.10</td>\n",
       "      <td>0</td>\n",
       "      <td>0.718</td>\n",
       "      <td>3.561</td>\n",
       "      <td>87.9</td>\n",
       "      <td>1.6132</td>\n",
       "      <td>24.0</td>\n",
       "      <td>666</td>\n",
       "      <td>20.2</td>\n",
       "      <td>354.70</td>\n",
       "      <td>7.12</td>\n",
       "      <td>27.5</td>\n",
       "    </tr>\n",
       "    <tr>\n",
       "      <th>1</th>\n",
       "      <td>low</td>\n",
       "      <td>0.0</td>\n",
       "      <td>8.14</td>\n",
       "      <td>0</td>\n",
       "      <td>0.538</td>\n",
       "      <td>5.950</td>\n",
       "      <td>82.0</td>\n",
       "      <td>3.9900</td>\n",
       "      <td>4.0</td>\n",
       "      <td>307</td>\n",
       "      <td>21.0</td>\n",
       "      <td>232.60</td>\n",
       "      <td>27.71</td>\n",
       "      <td>13.2</td>\n",
       "    </tr>\n",
       "    <tr>\n",
       "      <th>2</th>\n",
       "      <td>very_low</td>\n",
       "      <td>82.5</td>\n",
       "      <td>2.03</td>\n",
       "      <td>0</td>\n",
       "      <td>0.415</td>\n",
       "      <td>6.162</td>\n",
       "      <td>38.4</td>\n",
       "      <td>6.2700</td>\n",
       "      <td>2.0</td>\n",
       "      <td>348</td>\n",
       "      <td>14.7</td>\n",
       "      <td>393.77</td>\n",
       "      <td>7.43</td>\n",
       "      <td>24.1</td>\n",
       "    </tr>\n",
       "    <tr>\n",
       "      <th>3</th>\n",
       "      <td>low</td>\n",
       "      <td>0.0</td>\n",
       "      <td>21.89</td>\n",
       "      <td>0</td>\n",
       "      <td>0.624</td>\n",
       "      <td>6.151</td>\n",
       "      <td>97.9</td>\n",
       "      <td>1.6687</td>\n",
       "      <td>4.0</td>\n",
       "      <td>437</td>\n",
       "      <td>21.2</td>\n",
       "      <td>396.90</td>\n",
       "      <td>18.46</td>\n",
       "      <td>17.8</td>\n",
       "    </tr>\n",
       "    <tr>\n",
       "      <th>4</th>\n",
       "      <td>high</td>\n",
       "      <td>0.0</td>\n",
       "      <td>18.10</td>\n",
       "      <td>0</td>\n",
       "      <td>0.614</td>\n",
       "      <td>6.980</td>\n",
       "      <td>67.6</td>\n",
       "      <td>2.5329</td>\n",
       "      <td>24.0</td>\n",
       "      <td>666</td>\n",
       "      <td>20.2</td>\n",
       "      <td>374.68</td>\n",
       "      <td>11.66</td>\n",
       "      <td>29.8</td>\n",
       "    </tr>\n",
       "    <tr>\n",
       "      <th>...</th>\n",
       "      <td>...</td>\n",
       "      <td>...</td>\n",
       "      <td>...</td>\n",
       "      <td>...</td>\n",
       "      <td>...</td>\n",
       "      <td>...</td>\n",
       "      <td>...</td>\n",
       "      <td>...</td>\n",
       "      <td>...</td>\n",
       "      <td>...</td>\n",
       "      <td>...</td>\n",
       "      <td>...</td>\n",
       "      <td>...</td>\n",
       "      <td>...</td>\n",
       "    </tr>\n",
       "    <tr>\n",
       "      <th>95</th>\n",
       "      <td>high</td>\n",
       "      <td>0.0</td>\n",
       "      <td>18.10</td>\n",
       "      <td>0</td>\n",
       "      <td>0.740</td>\n",
       "      <td>6.219</td>\n",
       "      <td>100.0</td>\n",
       "      <td>2.0048</td>\n",
       "      <td>24.0</td>\n",
       "      <td>666</td>\n",
       "      <td>20.2</td>\n",
       "      <td>395.69</td>\n",
       "      <td>16.59</td>\n",
       "      <td>18.4</td>\n",
       "    </tr>\n",
       "    <tr>\n",
       "      <th>96</th>\n",
       "      <td>high</td>\n",
       "      <td>0.0</td>\n",
       "      <td>18.10</td>\n",
       "      <td>0</td>\n",
       "      <td>0.655</td>\n",
       "      <td>5.759</td>\n",
       "      <td>48.2</td>\n",
       "      <td>3.0665</td>\n",
       "      <td>24.0</td>\n",
       "      <td>666</td>\n",
       "      <td>20.2</td>\n",
       "      <td>334.40</td>\n",
       "      <td>14.13</td>\n",
       "      <td>19.9</td>\n",
       "    </tr>\n",
       "    <tr>\n",
       "      <th>97</th>\n",
       "      <td>high</td>\n",
       "      <td>0.0</td>\n",
       "      <td>18.10</td>\n",
       "      <td>0</td>\n",
       "      <td>0.671</td>\n",
       "      <td>6.380</td>\n",
       "      <td>96.2</td>\n",
       "      <td>1.3861</td>\n",
       "      <td>24.0</td>\n",
       "      <td>666</td>\n",
       "      <td>20.2</td>\n",
       "      <td>396.90</td>\n",
       "      <td>23.69</td>\n",
       "      <td>13.1</td>\n",
       "    </tr>\n",
       "    <tr>\n",
       "      <th>98</th>\n",
       "      <td>low</td>\n",
       "      <td>0.0</td>\n",
       "      <td>9.90</td>\n",
       "      <td>0</td>\n",
       "      <td>0.544</td>\n",
       "      <td>5.914</td>\n",
       "      <td>83.2</td>\n",
       "      <td>3.9986</td>\n",
       "      <td>4.0</td>\n",
       "      <td>304</td>\n",
       "      <td>18.4</td>\n",
       "      <td>390.70</td>\n",
       "      <td>18.33</td>\n",
       "      <td>17.8</td>\n",
       "    </tr>\n",
       "    <tr>\n",
       "      <th>99</th>\n",
       "      <td>high</td>\n",
       "      <td>0.0</td>\n",
       "      <td>18.10</td>\n",
       "      <td>0</td>\n",
       "      <td>0.693</td>\n",
       "      <td>5.453</td>\n",
       "      <td>100.0</td>\n",
       "      <td>1.4896</td>\n",
       "      <td>24.0</td>\n",
       "      <td>666</td>\n",
       "      <td>20.2</td>\n",
       "      <td>396.90</td>\n",
       "      <td>30.59</td>\n",
       "      <td>5.0</td>\n",
       "    </tr>\n",
       "  </tbody>\n",
       "</table>\n",
       "<p>100 rows × 14 columns</p>\n",
       "</div>"
      ],
      "text/plain": [
       "       CRIME    ZN  INDUS  CHAS    NOX     RM    AGE     DIS   RAD  TAX  \\\n",
       "0       high   0.0  18.10     0  0.718  3.561   87.9  1.6132  24.0  666   \n",
       "1        low   0.0   8.14     0  0.538  5.950   82.0  3.9900   4.0  307   \n",
       "2   very_low  82.5   2.03     0  0.415  6.162   38.4  6.2700   2.0  348   \n",
       "3        low   0.0  21.89     0  0.624  6.151   97.9  1.6687   4.0  437   \n",
       "4       high   0.0  18.10     0  0.614  6.980   67.6  2.5329  24.0  666   \n",
       "..       ...   ...    ...   ...    ...    ...    ...     ...   ...  ...   \n",
       "95      high   0.0  18.10     0  0.740  6.219  100.0  2.0048  24.0  666   \n",
       "96      high   0.0  18.10     0  0.655  5.759   48.2  3.0665  24.0  666   \n",
       "97      high   0.0  18.10     0  0.671  6.380   96.2  1.3861  24.0  666   \n",
       "98       low   0.0   9.90     0  0.544  5.914   83.2  3.9986   4.0  304   \n",
       "99      high   0.0  18.10     0  0.693  5.453  100.0  1.4896  24.0  666   \n",
       "\n",
       "    PTRATIO       B  LSTAT  PRICE  \n",
       "0      20.2  354.70   7.12   27.5  \n",
       "1      21.0  232.60  27.71   13.2  \n",
       "2      14.7  393.77   7.43   24.1  \n",
       "3      21.2  396.90  18.46   17.8  \n",
       "4      20.2  374.68  11.66   29.8  \n",
       "..      ...     ...    ...    ...  \n",
       "95     20.2  395.69  16.59   18.4  \n",
       "96     20.2  334.40  14.13   19.9  \n",
       "97     20.2  396.90  23.69   13.1  \n",
       "98     18.4  390.70  18.33   17.8  \n",
       "99     20.2  396.90  30.59    5.0  \n",
       "\n",
       "[100 rows x 14 columns]"
      ]
     },
     "execution_count": 3,
     "metadata": {},
     "output_type": "execute_result"
    }
   ],
   "source": [
    "df=pd.read_csv('Boston.csv')\n",
    "df[['NOX','RAD']]=df[['NOX','RAD']].fillna(df[['NOX','RAD']].mean())\n",
    "df"
   ]
  },
  {
   "cell_type": "code",
   "execution_count": 4,
   "id": "d6b4cb24-86ad-4c33-a138-d2c1380795d3",
   "metadata": {},
   "outputs": [],
   "source": [
    "df=df.drop([76], axis=0)"
   ]
  },
  {
   "cell_type": "code",
   "execution_count": 5,
   "id": "771ace29-7b08-483f-b5a1-74d720cd3c23",
   "metadata": {},
   "outputs": [],
   "source": [
    "x=df.loc[:,['RM','PTRATIO','LSTAT']]\n",
    "t=df[['PRICE']]"
   ]
  },
  {
   "cell_type": "code",
   "execution_count": 6,
   "id": "2a537600-0c57-4b73-b6a3-a3d2a5f2a81e",
   "metadata": {},
   "outputs": [],
   "source": [
    "sc_x_model=StandardScaler()\n",
    "sc_y_model=StandardScaler()\n",
    "sc_x_model.fit(x)\n",
    "sc_y_model.fit(t)\n",
    "sc_x=sc_x_model.transform(x)\n",
    "sc_y=sc_y_model.transform(t)"
   ]
  },
  {
   "cell_type": "code",
   "execution_count": 7,
   "id": "5898110d-77ad-4a3d-88b2-8d1ecb4bcc08",
   "metadata": {},
   "outputs": [
    {
     "data": {
      "text/plain": [
       "(99, 9)"
      ]
     },
     "execution_count": 7,
     "metadata": {},
     "output_type": "execute_result"
    }
   ],
   "source": [
    "from sklearn.preprocessing import PolynomialFeatures\n",
    "\n",
    "pf=PolynomialFeatures(degree=2, include_bias=False)\n",
    "pf_x=pf.fit_transform(sc_x)\n",
    "pf_x.shape"
   ]
  },
  {
   "cell_type": "code",
   "execution_count": 8,
   "id": "68f1a699-2894-4c0a-a884-be1a424bc254",
   "metadata": {},
   "outputs": [
    {
     "data": {
      "text/plain": [
       "array(['x0', 'x1', 'x2', 'x0^2', 'x0 x1', 'x0 x2', 'x1^2', 'x1 x2',\n",
       "       'x2^2'], dtype=object)"
      ]
     },
     "execution_count": 8,
     "metadata": {},
     "output_type": "execute_result"
    }
   ],
   "source": [
    "pf.get_feature_names_out()"
   ]
  },
  {
   "cell_type": "code",
   "execution_count": 9,
   "id": "51deed75-8abf-4b8c-8071-e0c57865e77f",
   "metadata": {},
   "outputs": [
    {
     "data": {
      "text/plain": [
       "0.8831387110172352"
      ]
     },
     "execution_count": 9,
     "metadata": {},
     "output_type": "execute_result"
    }
   ],
   "source": [
    "from sklearn.linear_model import Lasso\n",
    "x_train, x_test, y_train, y_test = train_test_split(pf_x, sc_y, random_state=0, test_size=0.2)\n",
    "model=Lasso(alpha=0.1)\n",
    "model.fit(x_train, y_train)\n",
    "model.score(x_test, y_test)"
   ]
  },
  {
   "cell_type": "code",
   "execution_count": 10,
   "id": "adfb53f6-ad9e-415a-86d8-46c2d5c35567",
   "metadata": {
    "scrolled": true
   },
   "outputs": [
    {
     "data": {
      "text/plain": [
       "array([ 0.43285911, -0.09601563, -0.26029767,  0.15977503, -0.        ,\n",
       "       -0.00808369, -0.        ,  0.        ,  0.        ])"
      ]
     },
     "execution_count": 10,
     "metadata": {},
     "output_type": "execute_result"
    }
   ],
   "source": [
    "weight=model.coef_\n",
    "weight"
   ]
  },
  {
   "cell_type": "code",
   "execution_count": 11,
   "id": "7656603e-d4b9-479b-a17c-0ac5b2552951",
   "metadata": {},
   "outputs": [
    {
     "data": {
      "text/plain": [
       "x0       0.432859\n",
       "x1      -0.096016\n",
       "x2      -0.260298\n",
       "x0^2     0.159775\n",
       "x0 x1   -0.000000\n",
       "x0 x2   -0.008084\n",
       "x1^2    -0.000000\n",
       "x1 x2    0.000000\n",
       "x2^2     0.000000\n",
       "dtype: float64"
      ]
     },
     "execution_count": 11,
     "metadata": {},
     "output_type": "execute_result"
    }
   ],
   "source": [
    "pd.Series(weight, index=pf.get_feature_names_out())"
   ]
  },
  {
   "cell_type": "code",
   "execution_count": 12,
   "id": "02fbc15f-784f-4f39-bd93-cf17417b0f96",
   "metadata": {},
   "outputs": [
    {
     "data": {
      "text/plain": [
       "0.7854929935582584"
      ]
     },
     "execution_count": 12,
     "metadata": {},
     "output_type": "execute_result"
    }
   ],
   "source": [
    "from sklearn.linear_model import LinearRegression\n",
    "x_train, x_test, y_train, y_test = train_test_split (pf_x, sc_y, test_size=0.3, random_state=0)\n",
    "model=LinearRegression()\n",
    "model.fit(x_train, y_train)\n",
    "model.score(x_test, y_test)"
   ]
  },
  {
   "cell_type": "code",
   "execution_count": 13,
   "id": "7725632b-37fa-42c8-8baa-87155005ae87",
   "metadata": {},
   "outputs": [
    {
     "name": "stdout",
     "output_type": "stream",
     "text": [
      "0.8607320524729507\n",
      "0.8458730019328174\n"
     ]
    }
   ],
   "source": [
    "from sklearn.linear_model import Ridge\n",
    "\n",
    "ridgeModel = Ridge(alpha=10)\n",
    "ridgeModel.fit(x_train, y_train)\n",
    "print(ridgeModel.score(x_train, y_train))\n",
    "print(ridgeModel.score(x_test, y_test))"
   ]
  },
  {
   "cell_type": "code",
   "execution_count": 14,
   "id": "de786753-2e75-4fe2-a9f2-4d778fa0c6bd",
   "metadata": {},
   "outputs": [
    {
     "name": "stdout",
     "output_type": "stream",
     "text": [
      "17.62 0.8528754801497631\n"
     ]
    }
   ],
   "source": [
    "max_score=0\n",
    "for num in range(1,2000):\n",
    "    fig=num/100\n",
    "    ridgeModel = Ridge(alpha=fig)\n",
    "    ridgeModel.fit(x_train, y_train)\n",
    "    tmp_score=ridgeModel.score(x_test, y_test)\n",
    "    if tmp_score > max_score:\n",
    "        max_score=tmp_score\n",
    "        max_fig=fig\n",
    "print(max_fig, max_score)"
   ]
  },
  {
   "cell_type": "code",
   "execution_count": 15,
   "id": "a5f97fbc-fffe-458a-a1ff-dcacdb560d68",
   "metadata": {},
   "outputs": [
    {
     "name": "stdout",
     "output_type": "stream",
     "text": [
      "1.556674598328837\n",
      "1.215405478918457\n"
     ]
    }
   ],
   "source": [
    "print(sum(abs(model.coef_)[0]))\n",
    "print(sum(abs(ridgeModel.coef_)[0]))"
   ]
  },
  {
   "cell_type": "code",
   "execution_count": 16,
   "id": "17fe0eca-0bf4-443d-8b81-e0f50a03122a",
   "metadata": {},
   "outputs": [
    {
     "data": {
      "text/plain": [
       "array([[ 0.38642231, -0.15287248, -0.55188528,  0.13172722, -0.02016207,\n",
       "        -0.07524552, -0.06439108, -0.02138897,  0.15257969]])"
      ]
     },
     "execution_count": 16,
     "metadata": {},
     "output_type": "execute_result"
    }
   ],
   "source": [
    "model.coef_"
   ]
  },
  {
   "cell_type": "code",
   "execution_count": 17,
   "id": "cf9b7191-eb39-4cf9-a532-86b98ba37e3b",
   "metadata": {},
   "outputs": [],
   "source": [
    "import pandas as pd\n",
    "df=pd.read_csv('Boston.csv')\n",
    "df[['NOX', 'RAD']]=df[['NOX', 'RAD']].fillna(df[['NOX','RAD']].mean())"
   ]
  },
  {
   "cell_type": "code",
   "execution_count": 18,
   "id": "f0a742a4-f9b2-4443-9487-2ee0efeca960",
   "metadata": {},
   "outputs": [],
   "source": [
    "from sklearn.model_selection import train_test_split\n",
    "x=df.loc[:, 'ZN':'LSTAT']\n",
    "t=df['PRICE']\n",
    "\n",
    "x_train, x_test, y_train, y_test = train_test_split(x, t, random_state=0, test_size=0.3)"
   ]
  },
  {
   "cell_type": "code",
   "execution_count": 19,
   "id": "7b81af31-debc-4035-88a6-b226a215bf7a",
   "metadata": {},
   "outputs": [
    {
     "data": {
      "text/plain": [
       "0.59433275545417"
      ]
     },
     "execution_count": 19,
     "metadata": {},
     "output_type": "execute_result"
    }
   ],
   "source": [
    "from sklearn.tree import DecisionTreeRegressor\n",
    "\n",
    "model=DecisionTreeRegressor(max_depth=10, random_state=0)\n",
    "model.fit(x_train, y_train)\n",
    "model.score(x_test, y_test)"
   ]
  },
  {
   "cell_type": "code",
   "execution_count": 20,
   "id": "53bac461-157a-4652-bb6e-06095f3db80c",
   "metadata": {},
   "outputs": [
    {
     "data": {
      "text/plain": [
       "ZN         0.000252\n",
       "INDUS      0.007301\n",
       "CHAS       0.000000\n",
       "NOX        0.001967\n",
       "RM         0.759547\n",
       "AGE        0.139388\n",
       "DIS        0.013635\n",
       "RAD        0.000404\n",
       "TAX        0.013975\n",
       "PTRATIO    0.001913\n",
       "B          0.003331\n",
       "LSTAT      0.058287\n",
       "dtype: float64"
      ]
     },
     "execution_count": 20,
     "metadata": {},
     "output_type": "execute_result"
    }
   ],
   "source": [
    "pd.Series(model.feature_importances_, index=x.columns)"
   ]
  },
  {
   "cell_type": "code",
   "execution_count": null,
   "id": "be23da0f-ec71-42e4-b961-85004b362b6c",
   "metadata": {},
   "outputs": [],
   "source": []
  }
 ],
 "metadata": {
  "kernelspec": {
   "display_name": "Python 3 (ipykernel)",
   "language": "python",
   "name": "python3"
  },
  "language_info": {
   "codemirror_mode": {
    "name": "ipython",
    "version": 3
   },
   "file_extension": ".py",
   "mimetype": "text/x-python",
   "name": "python",
   "nbconvert_exporter": "python",
   "pygments_lexer": "ipython3",
   "version": "3.12.4"
  }
 },
 "nbformat": 4,
 "nbformat_minor": 5
}
