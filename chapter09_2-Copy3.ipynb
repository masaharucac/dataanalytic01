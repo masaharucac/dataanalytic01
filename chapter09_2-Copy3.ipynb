{
 "cells": [
  {
   "cell_type": "code",
   "execution_count": 14,
   "id": "c81ec2bd-4115-4922-bdf7-8833edfb65f0",
   "metadata": {},
   "outputs": [],
   "source": [
    "import pandas as pd\n",
    "%matplotlib inline\n",
    "from sklearn.model_selection import train_test_split\n",
    "from sklearn.tree import DecisionTreeClassifier\n",
    "from sklearn.ensemble import RandomForestClassifier"
   ]
  },
  {
   "cell_type": "code",
   "execution_count": 5,
   "id": "2ab3531d-89eb-493e-bace-2ef707e52c07",
   "metadata": {},
   "outputs": [
    {
     "data": {
      "text/html": [
       "<div>\n",
       "<style scoped>\n",
       "    .dataframe tbody tr th:only-of-type {\n",
       "        vertical-align: middle;\n",
       "    }\n",
       "\n",
       "    .dataframe tbody tr th {\n",
       "        vertical-align: top;\n",
       "    }\n",
       "\n",
       "    .dataframe thead th {\n",
       "        text-align: right;\n",
       "    }\n",
       "</style>\n",
       "<table border=\"1\" class=\"dataframe\">\n",
       "  <thead>\n",
       "    <tr style=\"text-align: right;\">\n",
       "      <th></th>\n",
       "      <th>id</th>\n",
       "      <th>age</th>\n",
       "      <th>job</th>\n",
       "      <th>marital</th>\n",
       "      <th>education</th>\n",
       "      <th>default</th>\n",
       "      <th>amount</th>\n",
       "      <th>housing</th>\n",
       "      <th>loan</th>\n",
       "      <th>contact</th>\n",
       "      <th>day</th>\n",
       "      <th>month</th>\n",
       "      <th>duration</th>\n",
       "      <th>campaign</th>\n",
       "      <th>previous</th>\n",
       "      <th>y</th>\n",
       "    </tr>\n",
       "  </thead>\n",
       "  <tbody>\n",
       "    <tr>\n",
       "      <th>0</th>\n",
       "      <td>1</td>\n",
       "      <td>39</td>\n",
       "      <td>blue-collar</td>\n",
       "      <td>married</td>\n",
       "      <td>secondary</td>\n",
       "      <td>no</td>\n",
       "      <td>1756</td>\n",
       "      <td>yes</td>\n",
       "      <td>no</td>\n",
       "      <td>cellular</td>\n",
       "      <td>3</td>\n",
       "      <td>apr</td>\n",
       "      <td>370.055237</td>\n",
       "      <td>1</td>\n",
       "      <td>0</td>\n",
       "      <td>1</td>\n",
       "    </tr>\n",
       "    <tr>\n",
       "      <th>1</th>\n",
       "      <td>2</td>\n",
       "      <td>51</td>\n",
       "      <td>entrepreneur</td>\n",
       "      <td>married</td>\n",
       "      <td>primary</td>\n",
       "      <td>no</td>\n",
       "      <td>1443</td>\n",
       "      <td>no</td>\n",
       "      <td>no</td>\n",
       "      <td>cellular</td>\n",
       "      <td>18</td>\n",
       "      <td>feb</td>\n",
       "      <td>233.998933</td>\n",
       "      <td>10</td>\n",
       "      <td>0</td>\n",
       "      <td>1</td>\n",
       "    </tr>\n",
       "    <tr>\n",
       "      <th>2</th>\n",
       "      <td>3</td>\n",
       "      <td>36</td>\n",
       "      <td>management</td>\n",
       "      <td>single</td>\n",
       "      <td>tertiary</td>\n",
       "      <td>no</td>\n",
       "      <td>436</td>\n",
       "      <td>no</td>\n",
       "      <td>no</td>\n",
       "      <td>cellular</td>\n",
       "      <td>13</td>\n",
       "      <td>apr</td>\n",
       "      <td>NaN</td>\n",
       "      <td>1</td>\n",
       "      <td>2</td>\n",
       "      <td>0</td>\n",
       "    </tr>\n",
       "    <tr>\n",
       "      <th>3</th>\n",
       "      <td>4</td>\n",
       "      <td>63</td>\n",
       "      <td>retired</td>\n",
       "      <td>married</td>\n",
       "      <td>secondary</td>\n",
       "      <td>no</td>\n",
       "      <td>474</td>\n",
       "      <td>no</td>\n",
       "      <td>no</td>\n",
       "      <td>cellular</td>\n",
       "      <td>25</td>\n",
       "      <td>jan</td>\n",
       "      <td>252.525808</td>\n",
       "      <td>1</td>\n",
       "      <td>0</td>\n",
       "      <td>0</td>\n",
       "    </tr>\n",
       "    <tr>\n",
       "      <th>4</th>\n",
       "      <td>5</td>\n",
       "      <td>31</td>\n",
       "      <td>management</td>\n",
       "      <td>single</td>\n",
       "      <td>tertiary</td>\n",
       "      <td>no</td>\n",
       "      <td>354</td>\n",
       "      <td>no</td>\n",
       "      <td>no</td>\n",
       "      <td>cellular</td>\n",
       "      <td>30</td>\n",
       "      <td>apr</td>\n",
       "      <td>NaN</td>\n",
       "      <td>1</td>\n",
       "      <td>2</td>\n",
       "      <td>0</td>\n",
       "    </tr>\n",
       "    <tr>\n",
       "      <th>...</th>\n",
       "      <td>...</td>\n",
       "      <td>...</td>\n",
       "      <td>...</td>\n",
       "      <td>...</td>\n",
       "      <td>...</td>\n",
       "      <td>...</td>\n",
       "      <td>...</td>\n",
       "      <td>...</td>\n",
       "      <td>...</td>\n",
       "      <td>...</td>\n",
       "      <td>...</td>\n",
       "      <td>...</td>\n",
       "      <td>...</td>\n",
       "      <td>...</td>\n",
       "      <td>...</td>\n",
       "      <td>...</td>\n",
       "    </tr>\n",
       "    <tr>\n",
       "      <th>27123</th>\n",
       "      <td>27124</td>\n",
       "      <td>42</td>\n",
       "      <td>blue-collar</td>\n",
       "      <td>married</td>\n",
       "      <td>primary</td>\n",
       "      <td>no</td>\n",
       "      <td>1455</td>\n",
       "      <td>yes</td>\n",
       "      <td>no</td>\n",
       "      <td>cellular</td>\n",
       "      <td>2</td>\n",
       "      <td>feb</td>\n",
       "      <td>246.943522</td>\n",
       "      <td>2</td>\n",
       "      <td>2</td>\n",
       "      <td>0</td>\n",
       "    </tr>\n",
       "    <tr>\n",
       "      <th>27124</th>\n",
       "      <td>27125</td>\n",
       "      <td>34</td>\n",
       "      <td>services</td>\n",
       "      <td>single</td>\n",
       "      <td>secondary</td>\n",
       "      <td>no</td>\n",
       "      <td>719</td>\n",
       "      <td>yes</td>\n",
       "      <td>no</td>\n",
       "      <td>sending _document</td>\n",
       "      <td>15</td>\n",
       "      <td>may</td>\n",
       "      <td>NaN</td>\n",
       "      <td>3</td>\n",
       "      <td>0</td>\n",
       "      <td>1</td>\n",
       "    </tr>\n",
       "    <tr>\n",
       "      <th>27125</th>\n",
       "      <td>27126</td>\n",
       "      <td>36</td>\n",
       "      <td>blue-collar</td>\n",
       "      <td>single</td>\n",
       "      <td>primary</td>\n",
       "      <td>no</td>\n",
       "      <td>49</td>\n",
       "      <td>yes</td>\n",
       "      <td>no</td>\n",
       "      <td>sending _document</td>\n",
       "      <td>8</td>\n",
       "      <td>may</td>\n",
       "      <td>303.008360</td>\n",
       "      <td>1</td>\n",
       "      <td>0</td>\n",
       "      <td>0</td>\n",
       "    </tr>\n",
       "    <tr>\n",
       "      <th>27126</th>\n",
       "      <td>27127</td>\n",
       "      <td>33</td>\n",
       "      <td>housemaid</td>\n",
       "      <td>married</td>\n",
       "      <td>primary</td>\n",
       "      <td>no</td>\n",
       "      <td>209</td>\n",
       "      <td>no</td>\n",
       "      <td>no</td>\n",
       "      <td>cellular</td>\n",
       "      <td>12</td>\n",
       "      <td>aug</td>\n",
       "      <td>258.334424</td>\n",
       "      <td>4</td>\n",
       "      <td>0</td>\n",
       "      <td>1</td>\n",
       "    </tr>\n",
       "    <tr>\n",
       "      <th>27127</th>\n",
       "      <td>27128</td>\n",
       "      <td>29</td>\n",
       "      <td>services</td>\n",
       "      <td>single</td>\n",
       "      <td>secondary</td>\n",
       "      <td>no</td>\n",
       "      <td>40</td>\n",
       "      <td>yes</td>\n",
       "      <td>no</td>\n",
       "      <td>cellular</td>\n",
       "      <td>18</td>\n",
       "      <td>may</td>\n",
       "      <td>321.215556</td>\n",
       "      <td>1</td>\n",
       "      <td>2</td>\n",
       "      <td>0</td>\n",
       "    </tr>\n",
       "  </tbody>\n",
       "</table>\n",
       "<p>27128 rows × 16 columns</p>\n",
       "</div>"
      ],
      "text/plain": [
       "          id  age           job  marital  education default  amount housing  \\\n",
       "0          1   39   blue-collar  married  secondary      no    1756     yes   \n",
       "1          2   51  entrepreneur  married    primary      no    1443      no   \n",
       "2          3   36    management   single   tertiary      no     436      no   \n",
       "3          4   63       retired  married  secondary      no     474      no   \n",
       "4          5   31    management   single   tertiary      no     354      no   \n",
       "...      ...  ...           ...      ...        ...     ...     ...     ...   \n",
       "27123  27124   42   blue-collar  married    primary      no    1455     yes   \n",
       "27124  27125   34      services   single  secondary      no     719     yes   \n",
       "27125  27126   36   blue-collar   single    primary      no      49     yes   \n",
       "27126  27127   33     housemaid  married    primary      no     209      no   \n",
       "27127  27128   29      services   single  secondary      no      40     yes   \n",
       "\n",
       "      loan            contact  day month    duration  campaign  previous  y  \n",
       "0       no           cellular    3   apr  370.055237         1         0  1  \n",
       "1       no           cellular   18   feb  233.998933        10         0  1  \n",
       "2       no           cellular   13   apr         NaN         1         2  0  \n",
       "3       no           cellular   25   jan  252.525808         1         0  0  \n",
       "4       no           cellular   30   apr         NaN         1         2  0  \n",
       "...    ...                ...  ...   ...         ...       ...       ... ..  \n",
       "27123   no           cellular    2   feb  246.943522         2         2  0  \n",
       "27124   no  sending _document   15   may         NaN         3         0  1  \n",
       "27125   no  sending _document    8   may  303.008360         1         0  0  \n",
       "27126   no           cellular   12   aug  258.334424         4         0  1  \n",
       "27127   no           cellular   18   may  321.215556         1         2  0  \n",
       "\n",
       "[27128 rows x 16 columns]"
      ]
     },
     "execution_count": 5,
     "metadata": {},
     "output_type": "execute_result"
    }
   ],
   "source": [
    "df=pd.read_csv('bank_new.csv')\n",
    "df"
   ]
  },
  {
   "cell_type": "code",
   "execution_count": 6,
   "id": "4da25b5f-4a95-47c3-a19c-fd620100ef21",
   "metadata": {},
   "outputs": [],
   "source": [
    "df2 = pd.get_dummies(df,drop_first=True,dtype=int)"
   ]
  },
  {
   "cell_type": "code",
   "execution_count": 7,
   "id": "b8b77138-29d1-454f-89d1-e1cd21dd1337",
   "metadata": {},
   "outputs": [],
   "source": [
    "train_val,test=train_test_split(df2,test_size=0.2,random_state=0)"
   ]
  },
  {
   "cell_type": "code",
   "execution_count": 8,
   "id": "7c92bfb0-8797-476f-bd8c-597a6a990a92",
   "metadata": {},
   "outputs": [
    {
     "data": {
      "text/plain": [
       "id                              0\n",
       "age                             0\n",
       "amount                          0\n",
       "day                             0\n",
       "duration                     5633\n",
       "campaign                        0\n",
       "previous                        0\n",
       "y                               0\n",
       "job_blue-collar                 0\n",
       "job_entrepreneur                0\n",
       "job_housemaid                   0\n",
       "job_management                  0\n",
       "job_retired                     0\n",
       "job_self-employed               0\n",
       "job_services                    0\n",
       "job_student                     0\n",
       "job_technician                  0\n",
       "job_unemployed                  0\n",
       "job_unknown                     0\n",
       "marital_married                 0\n",
       "marital_single                  0\n",
       "education_secondary             0\n",
       "education_tertiary              0\n",
       "education_unknown               0\n",
       "default_yes                     0\n",
       "housing_yes                     0\n",
       "loan_yes                        0\n",
       "contact_sending _document       0\n",
       "contact_telephone               0\n",
       "month_aug                       0\n",
       "month_dec                       0\n",
       "month_feb                       0\n",
       "month_jan                       0\n",
       "month_jul                       0\n",
       "month_jun                       0\n",
       "month_mar                       0\n",
       "month_may                       0\n",
       "month_nov                       0\n",
       "month_oct                       0\n",
       "month_sep                       0\n",
       "dtype: int64"
      ]
     },
     "execution_count": 8,
     "metadata": {},
     "output_type": "execute_result"
    }
   ],
   "source": [
    "train_val.isnull().sum()"
   ]
  },
  {
   "cell_type": "code",
   "execution_count": 9,
   "id": "65874285-ddf6-4cd0-bdd2-6d733e29d62b",
   "metadata": {},
   "outputs": [],
   "source": [
    "is_null=train_val['duration'].isnull()\n",
    "train_val.loc[(is_null)&(train_val['age']<30)&(train_val['y']==1),'duration']=train_val.loc[(train_val['age']<30)&(train_val['y']==1)].mean()\n",
    "train_val.loc\n",
    "for i in [20,30,40,50,60,70,80,90]:\n",
    "    train_val.loc[(is_null)&(train_val['age']>=i)&(train_val['age']<(i+10))&(train_val['y']==1),'duration']=train_val.loc[(train_val['age']>=i)&(train_val['age']<(i+10))&(train_val['y']==1)].mean()\n",
    "for i in [20,30,40,50,60,70,80,90]:\n",
    "    train_val.loc[(is_null)&(train_val['age']>=i)&(train_val['age']<(i+10))&(train_val['y']==0),'duration']=train_val.loc[(train_val['age']>=i)&(train_val['age']<(i+10))&(train_val['y']==0)].mean()    "
   ]
  },
  {
   "cell_type": "code",
   "execution_count": 10,
   "id": "3c454988-2669-45c3-bd9e-affdb01005ce",
   "metadata": {},
   "outputs": [],
   "source": [
    "def learn(x,t):\n",
    "    x_train,x_val,y_train,y_val=train_test_split(x,t,test_size=0.2,random_state=8)\n",
    "    y_train=pd.DataFrame(y_train)\n",
    "    y_val=pd.DataFrame(y_val)\n",
    "    model=RandomForestClassifier(n_estimators=200, random_state=0, max_depth=8)\n",
    "    model.fit(x_train,y_train)\n",
    "    train_score=model.score(x_train,y_train)\n",
    "    val_score=model.score(x_val,y_val)\n",
    "    return train_score,val_score\n"
   ]
  },
  {
   "cell_type": "code",
   "execution_count": 25,
   "id": "7d977ba1-6e3e-4f5c-88db-4253bf5f0ddc",
   "metadata": {},
   "outputs": [
    {
     "name": "stderr",
     "output_type": "stream",
     "text": [
      "C:\\Users\\user\\AppData\\Local\\Temp\\ipykernel_15500\\3553216289.py:3: FutureWarning: Series.ravel is deprecated. The underlying array is already 1D, so ravel is not necessary.  Use `to_numpy()` for conversion to a numpy array instead.\n",
      "  t = t.ravel()\n"
     ]
    }
   ],
   "source": [
    "x=train_val.drop(['y','id','day'],axis=1)\n",
    "t=train_val['y']\n",
    "t = t.ravel()"
   ]
  },
  {
   "cell_type": "code",
   "execution_count": 26,
   "id": "05ef6b52-653e-4fd9-8852-fc836f49fe41",
   "metadata": {
    "scrolled": true
   },
   "outputs": [
    {
     "data": {
      "text/plain": [
       "id                           0.007684\n",
       "age                          0.098362\n",
       "amount                      -0.010718\n",
       "day                          0.023362\n",
       "duration                     0.282816\n",
       "campaign                     0.146778\n",
       "previous                     0.022087\n",
       "y                            1.000000\n",
       "job_blue-collar              0.039722\n",
       "job_entrepreneur             0.025596\n",
       "job_housemaid               -0.013447\n",
       "job_management              -0.012109\n",
       "job_retired                  0.024693\n",
       "job_self-employed           -0.011199\n",
       "job_services                 0.006090\n",
       "job_student                 -0.051178\n",
       "job_technician              -0.013109\n",
       "job_unemployed              -0.030056\n",
       "job_unknown                 -0.001891\n",
       "marital_married              0.055259\n",
       "marital_single              -0.066403\n",
       "education_secondary          0.000303\n",
       "education_tertiary          -0.027016\n",
       "education_unknown            0.008918\n",
       "default_yes                 -0.022746\n",
       "housing_yes                  0.197832\n",
       "loan_yes                     0.096758\n",
       "contact_sending _document    0.131849\n",
       "contact_telephone           -0.002135\n",
       "month_aug                   -0.061577\n",
       "month_dec                    0.003989\n",
       "month_feb                   -0.033156\n",
       "month_jan                   -0.040918\n",
       "month_jul                   -0.007862\n",
       "month_jun                    0.030101\n",
       "month_mar                    0.006006\n",
       "month_may                    0.097815\n",
       "month_nov                   -0.055830\n",
       "month_oct                   -0.005010\n",
       "month_sep                   -0.001970\n",
       "Name: y, dtype: float64"
      ]
     },
     "execution_count": 26,
     "metadata": {},
     "output_type": "execute_result"
    }
   ],
   "source": [
    "train_val.corr()['y']"
   ]
  },
  {
   "cell_type": "code",
   "execution_count": 27,
   "id": "0671f4ee-ee2d-4ccf-ad6d-0923fd63213d",
   "metadata": {
    "scrolled": true
   },
   "outputs": [
    {
     "name": "stderr",
     "output_type": "stream",
     "text": [
      "C:\\Users\\user\\anaconda3\\Lib\\site-packages\\sklearn\\base.py:1473: DataConversionWarning: A column-vector y was passed when a 1d array was expected. Please change the shape of y to (n_samples,), for example using ravel().\n",
      "  return fit_method(estimator, *args, **kwargs)\n"
     ]
    }
   ],
   "source": [
    "a,b=learn(x,t)"
   ]
  },
  {
   "cell_type": "code",
   "execution_count": 28,
   "id": "ec7b7c15-b042-4c9c-8794-8454866cbac7",
   "metadata": {},
   "outputs": [
    {
     "name": "stdout",
     "output_type": "stream",
     "text": [
      "0.8186164391452105 0.7892190739460954\n"
     ]
    }
   ],
   "source": [
    "print(a,b)"
   ]
  },
  {
   "cell_type": "code",
   "execution_count": 113,
   "id": "ff8b06b6-2798-4597-bf5e-5bafb48ebd40",
   "metadata": {},
   "outputs": [
    {
     "data": {
      "text/plain": [
       "duration                     0.282816\n",
       "housing_yes                  0.197832\n",
       "campaign                     0.146778\n",
       "contact_sending _document    0.131849\n",
       "age                          0.098362\n",
       "month_may                    0.097815\n",
       "loan_yes                     0.096758\n",
       "marital_married              0.055259\n",
       "job_blue-collar              0.039722\n",
       "month_jun                    0.030101\n",
       "job_entrepreneur             0.025596\n",
       "job_retired                  0.024693\n",
       "day                          0.023362\n",
       "previous                     0.022087\n",
       "education_unknown            0.008918\n",
       "id                           0.007684\n",
       "job_services                 0.006090\n",
       "month_mar                    0.006006\n",
       "month_dec                    0.003989\n",
       "education_secondary          0.000303\n",
       "job_unknown                  0.001891\n",
       "month_sep                    0.001970\n",
       "contact_telephone            0.002135\n",
       "month_oct                    0.005010\n",
       "month_jul                    0.007862\n",
       "amount                       0.010718\n",
       "job_self-employed            0.011199\n",
       "job_management               0.012109\n",
       "job_technician               0.013109\n",
       "job_housemaid                0.013447\n",
       "default_yes                  0.022746\n",
       "education_tertiary           0.027016\n",
       "job_unemployed               0.030056\n",
       "month_feb                    0.033156\n",
       "month_jan                    0.040918\n",
       "job_student                  0.051178\n",
       "month_nov                    0.055830\n",
       "month_aug                    0.061577\n",
       "marital_single               0.066403\n",
       "Name: y, dtype: float64"
      ]
     },
     "execution_count": 113,
     "metadata": {},
     "output_type": "execute_result"
    }
   ],
   "source": [
    "corr_train_val = train_val.corr()['y'].sort_values(ascending=False).map(abs)\n",
    "corr_train_val = corr_train_val.drop(index = 'y')\n",
    "corr_train_val"
   ]
  },
  {
   "cell_type": "code",
   "execution_count": 114,
   "id": "57a6901c-eb5d-4be6-af3b-af3cd4f37b64",
   "metadata": {},
   "outputs": [
    {
     "data": {
      "text/plain": [
       "Index(['age', 'amount', 'duration', 'campaign', 'previous', 'job_blue-collar',\n",
       "       'job_entrepreneur', 'job_housemaid', 'job_management', 'job_retired',\n",
       "       'job_self-employed', 'job_services', 'job_student', 'job_technician',\n",
       "       'job_unemployed', 'job_unknown', 'marital_married', 'marital_single',\n",
       "       'education_secondary', 'education_tertiary', 'education_unknown',\n",
       "       'default_yes', 'housing_yes', 'loan_yes', 'contact_sending _document',\n",
       "       'contact_telephone', 'month_aug', 'month_dec', 'month_feb', 'month_jan',\n",
       "       'month_jul', 'month_jun', 'month_mar', 'month_may', 'month_nov',\n",
       "       'month_oct', 'month_sep'],\n",
       "      dtype='object')"
      ]
     },
     "execution_count": 114,
     "metadata": {},
     "output_type": "execute_result"
    }
   ],
   "source": [
    "x.columns"
   ]
  },
  {
   "cell_type": "code",
   "execution_count": 115,
   "id": "6fcb5173-cd96-4c3c-bee1-2096a71763ca",
   "metadata": {},
   "outputs": [],
   "source": [
    "x1 = x.drop(columns = ['job_services','month_mar','month_dec','education_secondary', 'job_unknown', 'month_sep', 'contact_telephone', 'month_oct', 'month_jul'])"
   ]
  },
  {
   "cell_type": "code",
   "execution_count": 116,
   "id": "01eb9dc7-bbf0-40bd-8520-7fdf6ac499ef",
   "metadata": {},
   "outputs": [
    {
     "data": {
      "text/plain": [
       "(0.8652727377455216, 0.8256162174614144)"
      ]
     },
     "execution_count": 116,
     "metadata": {},
     "output_type": "execute_result"
    }
   ],
   "source": [
    "learn(x1,t)"
   ]
  },
  {
   "cell_type": "code",
   "execution_count": 117,
   "id": "baea67a4-ad39-4df5-af64-8694ebc82f57",
   "metadata": {},
   "outputs": [
    {
     "data": {
      "text/plain": [
       "('duration',\n",
       " 'housing_yes',\n",
       " 'campaign',\n",
       " 'contact_sending _document',\n",
       " 'age',\n",
       " 'month_may',\n",
       " 'loan_yes',\n",
       " 'marital_married',\n",
       " 'job_blue-collar',\n",
       " 'month_jun',\n",
       " 'job_entrepreneur',\n",
       " 'job_retired',\n",
       " 'day',\n",
       " 'previous',\n",
       " 'education_unknown',\n",
       " 'id',\n",
       " 'job_services',\n",
       " 'month_mar',\n",
       " 'month_dec',\n",
       " 'education_secondary',\n",
       " 'job_unknown',\n",
       " 'month_sep',\n",
       " 'contact_telephone',\n",
       " 'month_oct',\n",
       " 'month_jul',\n",
       " 'amount',\n",
       " 'job_self-employed',\n",
       " 'job_management',\n",
       " 'job_technician',\n",
       " 'job_housemaid',\n",
       " 'default_yes',\n",
       " 'education_tertiary',\n",
       " 'job_unemployed',\n",
       " 'month_feb',\n",
       " 'month_jan',\n",
       " 'job_student',\n",
       " 'month_nov',\n",
       " 'month_aug',\n",
       " 'marital_single')"
      ]
     },
     "execution_count": 117,
     "metadata": {},
     "output_type": "execute_result"
    }
   ],
   "source": [
    "tuple(corr_train_val.index)"
   ]
  },
  {
   "cell_type": "code",
   "execution_count": 130,
   "id": "2edb66b8-ebfe-48fe-951e-00342066cf71",
   "metadata": {},
   "outputs": [
    {
     "name": "stdout",
     "output_type": "stream",
     "text": [
      "(0.7263406485801509, 0.6993780234968902)\n",
      "(0.7748401589770174, 0.7576595254549643)\n",
      "(0.7882034445020448, 0.7751670122091684)\n",
      "(0.8050227521456137, 0.7850725639253628)\n",
      "(0.825586083750936, 0.7958995623128311)\n",
      "(0.8281204999711999, 0.7979728173231975)\n",
      "(0.8600887045677093, 0.8286109191430546)\n",
      "(0.8600887045677093, 0.8283805574752361)\n",
      "(0.8596279016185704, 0.8279198341395991)\n",
      "(0.8591094983007891, 0.8258465791292329)\n",
      "(0.8592246990380739, 0.8246947707901405)\n",
      "(0.8584182938770808, 0.8256162174614144)\n",
      "(0.8603191060422787, 0.8272287491361437)\n",
      "(0.864696734059098, 0.8279198341395991)\n",
      "(0.8648695351650251, 0.8281501958074177)\n",
      "(0.8651575370082368, 0.8256162174614144)\n",
      "(0.8659063418005876, 0.8272287491361437)\n",
      "(0.8660215425378722, 0.8269983874683253)\n",
      "(0.8656759403260181, 0.8269983874683253)\n",
      "(0.8659063418005876, 0.8274591108039622)\n",
      "(0.8657911410633028, 0.8267680258005068)\n",
      "(0.8658487414319451, 0.8265376641326884)\n",
      "(0.8656759403260181, 0.8272287491361437)\n",
      "(0.8652727377455216, 0.8265376641326884)\n",
      "(0.8666551465929382, 0.8260769407970514)\n",
      "(0.8676343528598583, 0.8274591108039622)\n",
      "(0.8675191521225736, 0.828841280810873)\n",
      "(0.8674615517539312, 0.8279198341395991)\n",
      "(0.8675191521225736, 0.8279198341395991)\n",
      "(0.8676343528598583, 0.8279198341395991)\n",
      "(0.867749553597143, 0.8276894724717807)\n",
      "(0.8676919532285007, 0.8274591108039622)\n",
      "(0.8672887506480041, 0.8267680258005068)\n",
      "(0.8680375554403548, 0.8265376641326884)\n",
      "(0.8684983583894937, 0.8281501958074177)\n",
      "(0.8684983583894937, 0.8281501958074177)\n",
      "(0.868383157652209, 0.8281501958074177)\n",
      "(0.8679799550717124, 0.8286109191430546)\n",
      "(0.8682679569149243, 0.8283805574752361)\n"
     ]
    }
   ],
   "source": [
    "current_elements = []\n",
    "for element in tuple(corr_train_val.index):\n",
    "    current_elements.append(element) \n",
    "    print(learn(train_val[current_elements],t))"
   ]
  },
  {
   "cell_type": "code",
   "execution_count": 137,
   "id": "d59e6931-b0f5-4913-ad8d-1e802a1beff2",
   "metadata": {},
   "outputs": [
    {
     "name": "stdout",
     "output_type": "stream",
     "text": [
      "1\n",
      "(0.7030124992799954, 0.6970744068187054)\n",
      "2\n",
      "(0.6462185357986291, 0.6512324349228289)\n",
      "3\n",
      "(0.6462185357986291, 0.6512324349228289)\n",
      "4\n",
      "(0.7463279764990496, 0.7415342087076711)\n",
      "5\n",
      "(0.7735153504982432, 0.7707901405206173)\n",
      "6\n",
      "(0.8260468867000749, 0.8122552407279429)\n",
      "7\n",
      "(0.8322101261448073, 0.816171389080857)\n",
      "8\n",
      "(0.8611831115719141, 0.8322967058281502)\n",
      "9\n",
      "(0.8665975462242959, 0.8263073024648698)\n",
      "10\n",
      "(0.882495247969587, 0.8242340474545036)\n",
      "11\n",
      "(0.8920569091642186, 0.816171389080857)\n",
      "12\n",
      "(0.9138874488796729, 0.8191660907624971)\n",
      "13\n",
      "(0.9285755428834744, 0.8071872840359364)\n",
      "14\n",
      "(0.9444732446287656, 0.8023496890117484)\n",
      "15\n",
      "(0.9582973331029319, 0.8044229440221147)\n",
      "16\n",
      "(0.9664189850815045, 0.8000460723335637)\n",
      "17\n",
      "(0.9764990495939174, 0.8048836673577516)\n",
      "18\n",
      "(0.9831230919877887, 0.8048836673577516)\n",
      "19\n",
      "(0.9882495247969587, 0.8058051140290255)\n"
     ]
    }
   ],
   "source": []
  },
  {
   "cell_type": "code",
   "execution_count": 129,
   "id": "af5fdb90-92ff-4924-a968-fe3e31a4b9a4",
   "metadata": {},
   "outputs": [
    {
     "data": {
      "text/plain": [
       "(0.8665975462242959, 0.8263073024648698)"
      ]
     },
     "execution_count": 129,
     "metadata": {},
     "output_type": "execute_result"
    }
   ],
   "source": [
    "learn(x,t)"
   ]
  },
  {
   "cell_type": "code",
   "execution_count": 120,
   "id": "b2697ee0-0dca-4e00-a3ca-2cfabd4d5aba",
   "metadata": {},
   "outputs": [
    {
     "data": {
      "text/plain": [
       "(0.8050227521456137, 0.7850725639253628)"
      ]
     },
     "execution_count": 120,
     "metadata": {},
     "output_type": "execute_result"
    }
   ],
   "source": [
    "x2=train_val[['duration', 'housing_yes', 'campaign', 'contact_sending _document']]\n",
    "learn(x2, t)"
   ]
  },
  {
   "cell_type": "code",
   "execution_count": 121,
   "id": "c8fa07c4-2200-41f0-819b-08685c3aef82",
   "metadata": {},
   "outputs": [
    {
     "data": {
      "text/plain": [
       "<Axes: xlabel='duration', ylabel='age'>"
      ]
     },
     "execution_count": 121,
     "metadata": {},
     "output_type": "execute_result"
    },
    {
     "data": {
      "image/png": "[encoded data removed]",
      "text/plain": [
       "<Figure size 640x480 with 1 Axes>"
      ]
     },
     "metadata": {},
     "output_type": "display_data"
    }
   ],
   "source": [
    "train_val.plot(kind='scatter',x='duration',y='age')"
   ]
  },
  {
   "cell_type": "code",
   "execution_count": 2,
   "id": "fec11348-c894-47dc-be2b-b8e85b4e3365",
   "metadata": {},
   "outputs": [
    {
     "name": "stdout",
     "output_type": "stream",
     "text": [
      "pandas version: 2.2.2\n",
      "scikit-learn version: 1.5.1\n",
      "matplotlib version: 3.9.2\n"
     ]
    }
   ],
   "source": [
    "# pandasのバージョン\n",
    "import pandas as pd\n",
    "print(\"pandas version:\", pd.__version__)\n",
    "\n",
    "# scikit-learnのバージョン\n",
    "import sklearn\n",
    "print(\"scikit-learn version:\", sklearn.__version__)\n",
    "\n",
    "# matplotlibのバージョン\n",
    "import matplotlib\n",
    "print(\"matplotlib version:\", matplotlib.__version__)\n"
   ]
  },
  {
   "cell_type": "code",
   "execution_count": 1,
   "id": "8fd20b0b-5849-45e0-9b24-45cb80f6a908",
   "metadata": {},
   "outputs": [
    {
     "name": "stdout",
     "output_type": "stream",
     "text": [
      "3.12.4 | packaged by Anaconda, Inc. | (main, Jun 18 2024, 15:03:56) [MSC v.1929 64 bit (AMD64)]\n"
     ]
    }
   ],
   "source": [
    "import sys\n",
    "print(sys.version)\n"
   ]
  }
 ],
 "metadata": {
  "kernelspec": {
   "display_name": "Python 3 (ipykernel)",
   "language": "python",
   "name": "python3"
  },
  "language_info": {
   "codemirror_mode": {
    "name": "ipython",
    "version": 3
   },
   "file_extension": ".py",
   "mimetype": "text/x-python",
   "name": "python",
   "nbconvert_exporter": "python",
   "pygments_lexer": "ipython3",
   "version": "3.12.4"
  }
 },
 "nbformat": 4,
 "nbformat_minor": 5
}
