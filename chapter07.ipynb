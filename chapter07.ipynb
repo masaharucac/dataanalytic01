{
 "cells": [
  {
   "cell_type": "code",
   "execution_count": 3,
   "id": "44328edc-639b-46d2-b838-660605f7658f",
   "metadata": {},
   "outputs": [
    {
     "data": {
      "text/plain": [
       "Survived\n",
       "0    549\n",
       "1    342\n",
       "Name: count, dtype: int64"
      ]
     },
     "execution_count": 3,
     "metadata": {},
     "output_type": "execute_result"
    }
   ],
   "source": [
    "import pandas as pd\n",
    "from sklearn import tree\n",
    "from sklearn.model_selection import train_test_split\n",
    "%matplotlib inline\n",
    "df=pd.read_csv('Survived.csv')\n",
    "\n",
    "df['Survived'].value_counts()\n"
   ]
  },
  {
   "cell_type": "code",
   "execution_count": 4,
   "id": "93ba59cf-2d34-4569-8402-a87234b66575",
   "metadata": {},
   "outputs": [
    {
     "data": {
      "text/plain": [
       "PassengerId      0\n",
       "Survived         0\n",
       "Pclass           0\n",
       "Sex              0\n",
       "Age            177\n",
       "SibSp            0\n",
       "Parch            0\n",
       "Ticket           0\n",
       "Fare             0\n",
       "Cabin          687\n",
       "Embarked         2\n",
       "dtype: int64"
      ]
     },
     "execution_count": 4,
     "metadata": {},
     "output_type": "execute_result"
    }
   ],
   "source": [
    "df.isnull().sum()"
   ]
  },
  {
   "cell_type": "code",
   "execution_count": 5,
   "id": "76608343-4e7f-4f37-aadc-7e0e53046943",
   "metadata": {},
   "outputs": [
    {
     "data": {
      "text/plain": [
       "Embarked\n",
       "S    644\n",
       "C    168\n",
       "Q     77\n",
       "Name: count, dtype: int64"
      ]
     },
     "execution_count": 5,
     "metadata": {},
     "output_type": "execute_result"
    }
   ],
   "source": [
    "df['Embarked'].value_counts()"
   ]
  },
  {
   "cell_type": "code",
   "execution_count": 6,
   "id": "329512a8-4344-4bca-9c5f-964c457f1081",
   "metadata": {},
   "outputs": [],
   "source": [
    "df['Age']=df['Age'].fillna(df['Age'].mean())\n",
    "df['Embarked']=df['Embarked'].fillna(df['Embarked'].mode()[0])"
   ]
  },
  {
   "cell_type": "code",
   "execution_count": 7,
   "id": "66dd8633-489a-45b2-b747-c14359fd5160",
   "metadata": {},
   "outputs": [
    {
     "data": {
      "text/plain": [
       "PassengerId    False\n",
       "Survived       False\n",
       "Pclass         False\n",
       "Sex            False\n",
       "Age            False\n",
       "SibSp          False\n",
       "Parch          False\n",
       "Ticket         False\n",
       "Fare           False\n",
       "Cabin           True\n",
       "Embarked       False\n",
       "dtype: bool"
      ]
     },
     "execution_count": 7,
     "metadata": {},
     "output_type": "execute_result"
    }
   ],
   "source": [
    "df.isnull().any(axis=0)"
   ]
  },
  {
   "cell_type": "code",
   "execution_count": 8,
   "id": "1543b972-7685-4949-9e3e-91de64afc079",
   "metadata": {},
   "outputs": [],
   "source": [
    "col=['Pclass','Age','SibSp','Parch','Fare']\n",
    "x=df[col]\n",
    "t=df['Survived']"
   ]
  },
  {
   "cell_type": "code",
   "execution_count": 9,
   "id": "ac92a644-98f3-4e74-9a60-6649af4d7e05",
   "metadata": {},
   "outputs": [],
   "source": [
    "x_train,x_test,y_train,y_test=train_test_split(x,t,test_size=0.2,random_state=0)"
   ]
  },
  {
   "cell_type": "code",
   "execution_count": 10,
   "id": "2278f59f-f913-48bd-8714-98737ecaaacf",
   "metadata": {},
   "outputs": [
    {
     "data": {
      "text/plain": [
       "0.7374301675977654"
      ]
     },
     "execution_count": 10,
     "metadata": {},
     "output_type": "execute_result"
    }
   ],
   "source": [
    "model=tree.DecisionTreeClassifier(max_depth=5,random_state=0,class_weight='balanced')\n",
    "model.fit(x_train,y_train)\n",
    "model.score(x_test,y_test)"
   ]
  },
  {
   "cell_type": "code",
   "execution_count": 11,
   "id": "9d8bd584-3e67-4c8c-820a-60e6492cefd9",
   "metadata": {},
   "outputs": [],
   "source": [
    "def learn (x,t,depth=3):\n",
    "    x_train,x_test,y_train,y_test=train_test_split(x,t,test_size=0.2,random_state=0)\n",
    "    model2=tree.DecisionTreeClassifier(max_depth=depth,random_state=0,class_weight='balanced')\n",
    "    model2.fit(x_train,y_train)\n",
    "\n",
    "    score=model2.score(x_train,y_train)\n",
    "    score2=model2.score(x_test,y_test)\n",
    "    return round(score,3), round(score2,3), model2"
   ]
  },
  {
   "cell_type": "code",
   "execution_count": 12,
   "id": "0b94120c-50fa-4ffd-82dc-f00b09a30cb1",
   "metadata": {},
   "outputs": [
    {
     "name": "stdout",
     "output_type": "stream",
     "text": [
      "深さ1scoreデータの正解率は0.659score2データの正解率は0.704\n",
      "深さ2scoreデータの正解率は0.699score2データの正解率は0.732\n",
      "深さ3scoreデータの正解率は0.704score2データの正解率は0.737\n",
      "深さ4scoreデータの正解率は0.698score2データの正解率は0.726\n",
      "深さ5scoreデータの正解率は0.722score2データの正解率は0.737\n",
      "深さ6scoreデータの正解率は0.77score2データの正解率は0.698\n",
      "深さ7scoreデータの正解率は0.771score2データの正解率は0.648\n",
      "深さ8scoreデータの正解率は0.781score2データの正解率は0.631\n",
      "深さ9scoreデータの正解率は0.83score2データの正解率は0.704\n",
      "深さ10scoreデータの正解率は0.851score2データの正解率は0.687\n",
      "深さ11scoreデータの正解率は0.878score2データの正解率は0.676\n",
      "深さ12scoreデータの正解率は0.892score2データの正解率は0.654\n",
      "深さ13scoreデータの正解率は0.909score2データの正解率は0.654\n",
      "深さ14scoreデータの正解率は0.92score2データの正解率は0.654\n"
     ]
    }
   ],
   "source": [
    "for j in range(1,15):\n",
    "    train_score,test_score,model=learn(x,t,depth=j)\n",
    "    sentence='scoreデータの正解率は{}'\n",
    "    sentence2='score2データの正解率は{}'\n",
    "    total_sentence='深さ{}'+sentence+sentence2\n",
    "    print(total_sentence.format(j,train_score,test_score))"
   ]
  },
  {
   "cell_type": "code",
   "execution_count": 13,
   "id": "77352772-660a-4c11-98ef-413004260d23",
   "metadata": {},
   "outputs": [
    {
     "ename": "FileNotFoundError",
     "evalue": "[Errno 2] No such file or directory: 'Chapter7.csv'",
     "output_type": "error",
     "traceback": [
      "\u001b[1;31m---------------------------------------------------------------------------\u001b[0m",
      "\u001b[1;31mFileNotFoundError\u001b[0m                         Traceback (most recent call last)",
      "Cell \u001b[1;32mIn[13], line 1\u001b[0m\n\u001b[1;32m----> 1\u001b[0m df2\u001b[38;5;241m=\u001b[39m\u001b[43mpd\u001b[49m\u001b[38;5;241;43m.\u001b[39;49m\u001b[43mread_csv\u001b[49m\u001b[43m(\u001b[49m\u001b[38;5;124;43m'\u001b[39;49m\u001b[38;5;124;43mChapter7.csv\u001b[39;49m\u001b[38;5;124;43m'\u001b[39;49m\u001b[43m)\u001b[49m\n\u001b[0;32m      2\u001b[0m \u001b[38;5;28mprint\u001b[39m(df2[\u001b[38;5;124m'\u001b[39m\u001b[38;5;124mAge\u001b[39m\u001b[38;5;124m'\u001b[39m]\u001b[38;5;241m.\u001b[39mmean())\n\u001b[0;32m      3\u001b[0m \u001b[38;5;28mprint\u001b[39m(df2[\u001b[38;5;124m'\u001b[39m\u001b[38;5;124mAge\u001b[39m\u001b[38;5;124m'\u001b[39m]\u001b[38;5;241m.\u001b[39mmedian())\n",
      "File \u001b[1;32m~\\anaconda3\\Lib\\site-packages\\pandas\\io\\parsers\\readers.py:1026\u001b[0m, in \u001b[0;36mread_csv\u001b[1;34m(filepath_or_buffer, sep, delimiter, header, names, index_col, usecols, dtype, engine, converters, true_values, false_values, skipinitialspace, skiprows, skipfooter, nrows, na_values, keep_default_na, na_filter, verbose, skip_blank_lines, parse_dates, infer_datetime_format, keep_date_col, date_parser, date_format, dayfirst, cache_dates, iterator, chunksize, compression, thousands, decimal, lineterminator, quotechar, quoting, doublequote, escapechar, comment, encoding, encoding_errors, dialect, on_bad_lines, delim_whitespace, low_memory, memory_map, float_precision, storage_options, dtype_backend)\u001b[0m\n\u001b[0;32m   1013\u001b[0m kwds_defaults \u001b[38;5;241m=\u001b[39m _refine_defaults_read(\n\u001b[0;32m   1014\u001b[0m     dialect,\n\u001b[0;32m   1015\u001b[0m     delimiter,\n\u001b[1;32m   (...)\u001b[0m\n\u001b[0;32m   1022\u001b[0m     dtype_backend\u001b[38;5;241m=\u001b[39mdtype_backend,\n\u001b[0;32m   1023\u001b[0m )\n\u001b[0;32m   1024\u001b[0m kwds\u001b[38;5;241m.\u001b[39mupdate(kwds_defaults)\n\u001b[1;32m-> 1026\u001b[0m \u001b[38;5;28;01mreturn\u001b[39;00m \u001b[43m_read\u001b[49m\u001b[43m(\u001b[49m\u001b[43mfilepath_or_buffer\u001b[49m\u001b[43m,\u001b[49m\u001b[43m \u001b[49m\u001b[43mkwds\u001b[49m\u001b[43m)\u001b[49m\n",
      "File \u001b[1;32m~\\anaconda3\\Lib\\site-packages\\pandas\\io\\parsers\\readers.py:620\u001b[0m, in \u001b[0;36m_read\u001b[1;34m(filepath_or_buffer, kwds)\u001b[0m\n\u001b[0;32m    617\u001b[0m _validate_names(kwds\u001b[38;5;241m.\u001b[39mget(\u001b[38;5;124m\"\u001b[39m\u001b[38;5;124mnames\u001b[39m\u001b[38;5;124m\"\u001b[39m, \u001b[38;5;28;01mNone\u001b[39;00m))\n\u001b[0;32m    619\u001b[0m \u001b[38;5;66;03m# Create the parser.\u001b[39;00m\n\u001b[1;32m--> 620\u001b[0m parser \u001b[38;5;241m=\u001b[39m \u001b[43mTextFileReader\u001b[49m\u001b[43m(\u001b[49m\u001b[43mfilepath_or_buffer\u001b[49m\u001b[43m,\u001b[49m\u001b[43m \u001b[49m\u001b[38;5;241;43m*\u001b[39;49m\u001b[38;5;241;43m*\u001b[39;49m\u001b[43mkwds\u001b[49m\u001b[43m)\u001b[49m\n\u001b[0;32m    622\u001b[0m \u001b[38;5;28;01mif\u001b[39;00m chunksize \u001b[38;5;129;01mor\u001b[39;00m iterator:\n\u001b[0;32m    623\u001b[0m     \u001b[38;5;28;01mreturn\u001b[39;00m parser\n",
      "File \u001b[1;32m~\\anaconda3\\Lib\\site-packages\\pandas\\io\\parsers\\readers.py:1620\u001b[0m, in \u001b[0;36mTextFileReader.__init__\u001b[1;34m(self, f, engine, **kwds)\u001b[0m\n\u001b[0;32m   1617\u001b[0m     \u001b[38;5;28mself\u001b[39m\u001b[38;5;241m.\u001b[39moptions[\u001b[38;5;124m\"\u001b[39m\u001b[38;5;124mhas_index_names\u001b[39m\u001b[38;5;124m\"\u001b[39m] \u001b[38;5;241m=\u001b[39m kwds[\u001b[38;5;124m\"\u001b[39m\u001b[38;5;124mhas_index_names\u001b[39m\u001b[38;5;124m\"\u001b[39m]\n\u001b[0;32m   1619\u001b[0m \u001b[38;5;28mself\u001b[39m\u001b[38;5;241m.\u001b[39mhandles: IOHandles \u001b[38;5;241m|\u001b[39m \u001b[38;5;28;01mNone\u001b[39;00m \u001b[38;5;241m=\u001b[39m \u001b[38;5;28;01mNone\u001b[39;00m\n\u001b[1;32m-> 1620\u001b[0m \u001b[38;5;28mself\u001b[39m\u001b[38;5;241m.\u001b[39m_engine \u001b[38;5;241m=\u001b[39m \u001b[38;5;28;43mself\u001b[39;49m\u001b[38;5;241;43m.\u001b[39;49m\u001b[43m_make_engine\u001b[49m\u001b[43m(\u001b[49m\u001b[43mf\u001b[49m\u001b[43m,\u001b[49m\u001b[43m \u001b[49m\u001b[38;5;28;43mself\u001b[39;49m\u001b[38;5;241;43m.\u001b[39;49m\u001b[43mengine\u001b[49m\u001b[43m)\u001b[49m\n",
      "File \u001b[1;32m~\\anaconda3\\Lib\\site-packages\\pandas\\io\\parsers\\readers.py:1880\u001b[0m, in \u001b[0;36mTextFileReader._make_engine\u001b[1;34m(self, f, engine)\u001b[0m\n\u001b[0;32m   1878\u001b[0m     \u001b[38;5;28;01mif\u001b[39;00m \u001b[38;5;124m\"\u001b[39m\u001b[38;5;124mb\u001b[39m\u001b[38;5;124m\"\u001b[39m \u001b[38;5;129;01mnot\u001b[39;00m \u001b[38;5;129;01min\u001b[39;00m mode:\n\u001b[0;32m   1879\u001b[0m         mode \u001b[38;5;241m+\u001b[39m\u001b[38;5;241m=\u001b[39m \u001b[38;5;124m\"\u001b[39m\u001b[38;5;124mb\u001b[39m\u001b[38;5;124m\"\u001b[39m\n\u001b[1;32m-> 1880\u001b[0m \u001b[38;5;28mself\u001b[39m\u001b[38;5;241m.\u001b[39mhandles \u001b[38;5;241m=\u001b[39m \u001b[43mget_handle\u001b[49m\u001b[43m(\u001b[49m\n\u001b[0;32m   1881\u001b[0m \u001b[43m    \u001b[49m\u001b[43mf\u001b[49m\u001b[43m,\u001b[49m\n\u001b[0;32m   1882\u001b[0m \u001b[43m    \u001b[49m\u001b[43mmode\u001b[49m\u001b[43m,\u001b[49m\n\u001b[0;32m   1883\u001b[0m \u001b[43m    \u001b[49m\u001b[43mencoding\u001b[49m\u001b[38;5;241;43m=\u001b[39;49m\u001b[38;5;28;43mself\u001b[39;49m\u001b[38;5;241;43m.\u001b[39;49m\u001b[43moptions\u001b[49m\u001b[38;5;241;43m.\u001b[39;49m\u001b[43mget\u001b[49m\u001b[43m(\u001b[49m\u001b[38;5;124;43m\"\u001b[39;49m\u001b[38;5;124;43mencoding\u001b[39;49m\u001b[38;5;124;43m\"\u001b[39;49m\u001b[43m,\u001b[49m\u001b[43m \u001b[49m\u001b[38;5;28;43;01mNone\u001b[39;49;00m\u001b[43m)\u001b[49m\u001b[43m,\u001b[49m\n\u001b[0;32m   1884\u001b[0m \u001b[43m    \u001b[49m\u001b[43mcompression\u001b[49m\u001b[38;5;241;43m=\u001b[39;49m\u001b[38;5;28;43mself\u001b[39;49m\u001b[38;5;241;43m.\u001b[39;49m\u001b[43moptions\u001b[49m\u001b[38;5;241;43m.\u001b[39;49m\u001b[43mget\u001b[49m\u001b[43m(\u001b[49m\u001b[38;5;124;43m\"\u001b[39;49m\u001b[38;5;124;43mcompression\u001b[39;49m\u001b[38;5;124;43m\"\u001b[39;49m\u001b[43m,\u001b[49m\u001b[43m \u001b[49m\u001b[38;5;28;43;01mNone\u001b[39;49;00m\u001b[43m)\u001b[49m\u001b[43m,\u001b[49m\n\u001b[0;32m   1885\u001b[0m \u001b[43m    \u001b[49m\u001b[43mmemory_map\u001b[49m\u001b[38;5;241;43m=\u001b[39;49m\u001b[38;5;28;43mself\u001b[39;49m\u001b[38;5;241;43m.\u001b[39;49m\u001b[43moptions\u001b[49m\u001b[38;5;241;43m.\u001b[39;49m\u001b[43mget\u001b[49m\u001b[43m(\u001b[49m\u001b[38;5;124;43m\"\u001b[39;49m\u001b[38;5;124;43mmemory_map\u001b[39;49m\u001b[38;5;124;43m\"\u001b[39;49m\u001b[43m,\u001b[49m\u001b[43m \u001b[49m\u001b[38;5;28;43;01mFalse\u001b[39;49;00m\u001b[43m)\u001b[49m\u001b[43m,\u001b[49m\n\u001b[0;32m   1886\u001b[0m \u001b[43m    \u001b[49m\u001b[43mis_text\u001b[49m\u001b[38;5;241;43m=\u001b[39;49m\u001b[43mis_text\u001b[49m\u001b[43m,\u001b[49m\n\u001b[0;32m   1887\u001b[0m \u001b[43m    \u001b[49m\u001b[43merrors\u001b[49m\u001b[38;5;241;43m=\u001b[39;49m\u001b[38;5;28;43mself\u001b[39;49m\u001b[38;5;241;43m.\u001b[39;49m\u001b[43moptions\u001b[49m\u001b[38;5;241;43m.\u001b[39;49m\u001b[43mget\u001b[49m\u001b[43m(\u001b[49m\u001b[38;5;124;43m\"\u001b[39;49m\u001b[38;5;124;43mencoding_errors\u001b[39;49m\u001b[38;5;124;43m\"\u001b[39;49m\u001b[43m,\u001b[49m\u001b[43m \u001b[49m\u001b[38;5;124;43m\"\u001b[39;49m\u001b[38;5;124;43mstrict\u001b[39;49m\u001b[38;5;124;43m\"\u001b[39;49m\u001b[43m)\u001b[49m\u001b[43m,\u001b[49m\n\u001b[0;32m   1888\u001b[0m \u001b[43m    \u001b[49m\u001b[43mstorage_options\u001b[49m\u001b[38;5;241;43m=\u001b[39;49m\u001b[38;5;28;43mself\u001b[39;49m\u001b[38;5;241;43m.\u001b[39;49m\u001b[43moptions\u001b[49m\u001b[38;5;241;43m.\u001b[39;49m\u001b[43mget\u001b[49m\u001b[43m(\u001b[49m\u001b[38;5;124;43m\"\u001b[39;49m\u001b[38;5;124;43mstorage_options\u001b[39;49m\u001b[38;5;124;43m\"\u001b[39;49m\u001b[43m,\u001b[49m\u001b[43m \u001b[49m\u001b[38;5;28;43;01mNone\u001b[39;49;00m\u001b[43m)\u001b[49m\u001b[43m,\u001b[49m\n\u001b[0;32m   1889\u001b[0m \u001b[43m\u001b[49m\u001b[43m)\u001b[49m\n\u001b[0;32m   1890\u001b[0m \u001b[38;5;28;01massert\u001b[39;00m \u001b[38;5;28mself\u001b[39m\u001b[38;5;241m.\u001b[39mhandles \u001b[38;5;129;01mis\u001b[39;00m \u001b[38;5;129;01mnot\u001b[39;00m \u001b[38;5;28;01mNone\u001b[39;00m\n\u001b[0;32m   1891\u001b[0m f \u001b[38;5;241m=\u001b[39m \u001b[38;5;28mself\u001b[39m\u001b[38;5;241m.\u001b[39mhandles\u001b[38;5;241m.\u001b[39mhandle\n",
      "File \u001b[1;32m~\\anaconda3\\Lib\\site-packages\\pandas\\io\\common.py:873\u001b[0m, in \u001b[0;36mget_handle\u001b[1;34m(path_or_buf, mode, encoding, compression, memory_map, is_text, errors, storage_options)\u001b[0m\n\u001b[0;32m    868\u001b[0m \u001b[38;5;28;01melif\u001b[39;00m \u001b[38;5;28misinstance\u001b[39m(handle, \u001b[38;5;28mstr\u001b[39m):\n\u001b[0;32m    869\u001b[0m     \u001b[38;5;66;03m# Check whether the filename is to be opened in binary mode.\u001b[39;00m\n\u001b[0;32m    870\u001b[0m     \u001b[38;5;66;03m# Binary mode does not support 'encoding' and 'newline'.\u001b[39;00m\n\u001b[0;32m    871\u001b[0m     \u001b[38;5;28;01mif\u001b[39;00m ioargs\u001b[38;5;241m.\u001b[39mencoding \u001b[38;5;129;01mand\u001b[39;00m \u001b[38;5;124m\"\u001b[39m\u001b[38;5;124mb\u001b[39m\u001b[38;5;124m\"\u001b[39m \u001b[38;5;129;01mnot\u001b[39;00m \u001b[38;5;129;01min\u001b[39;00m ioargs\u001b[38;5;241m.\u001b[39mmode:\n\u001b[0;32m    872\u001b[0m         \u001b[38;5;66;03m# Encoding\u001b[39;00m\n\u001b[1;32m--> 873\u001b[0m         handle \u001b[38;5;241m=\u001b[39m \u001b[38;5;28;43mopen\u001b[39;49m\u001b[43m(\u001b[49m\n\u001b[0;32m    874\u001b[0m \u001b[43m            \u001b[49m\u001b[43mhandle\u001b[49m\u001b[43m,\u001b[49m\n\u001b[0;32m    875\u001b[0m \u001b[43m            \u001b[49m\u001b[43mioargs\u001b[49m\u001b[38;5;241;43m.\u001b[39;49m\u001b[43mmode\u001b[49m\u001b[43m,\u001b[49m\n\u001b[0;32m    876\u001b[0m \u001b[43m            \u001b[49m\u001b[43mencoding\u001b[49m\u001b[38;5;241;43m=\u001b[39;49m\u001b[43mioargs\u001b[49m\u001b[38;5;241;43m.\u001b[39;49m\u001b[43mencoding\u001b[49m\u001b[43m,\u001b[49m\n\u001b[0;32m    877\u001b[0m \u001b[43m            \u001b[49m\u001b[43merrors\u001b[49m\u001b[38;5;241;43m=\u001b[39;49m\u001b[43merrors\u001b[49m\u001b[43m,\u001b[49m\n\u001b[0;32m    878\u001b[0m \u001b[43m            \u001b[49m\u001b[43mnewline\u001b[49m\u001b[38;5;241;43m=\u001b[39;49m\u001b[38;5;124;43m\"\u001b[39;49m\u001b[38;5;124;43m\"\u001b[39;49m\u001b[43m,\u001b[49m\n\u001b[0;32m    879\u001b[0m \u001b[43m        \u001b[49m\u001b[43m)\u001b[49m\n\u001b[0;32m    880\u001b[0m     \u001b[38;5;28;01melse\u001b[39;00m:\n\u001b[0;32m    881\u001b[0m         \u001b[38;5;66;03m# Binary mode\u001b[39;00m\n\u001b[0;32m    882\u001b[0m         handle \u001b[38;5;241m=\u001b[39m \u001b[38;5;28mopen\u001b[39m(handle, ioargs\u001b[38;5;241m.\u001b[39mmode)\n",
      "\u001b[1;31mFileNotFoundError\u001b[0m: [Errno 2] No such file or directory: 'Chapter7.csv'"
     ]
    }
   ],
   "source": [
    "df2=pd.read_csv('Chapter7.csv')\n",
    "print(df2['Age'].mean())\n",
    "print(df2['Age'].median())"
   ]
  },
  {
   "cell_type": "code",
   "execution_count": null,
   "id": "6653b547-09f8-4bcb-95d1-6fd24bd4ae8c",
   "metadata": {},
   "outputs": [],
   "source": [
    "numeric_cols = df2.select_dtypes(include=['number'])\n",
    "\n",
    "# グループごとの平均を計算\n",
    "age_mean_by_survived = numeric_cols.groupby('Survived').mean()['Age']\n",
    "\n",
    "print(age_mean_by_survived)"
   ]
  },
  {
   "cell_type": "code",
   "execution_count": null,
   "id": "5a66f105-f73e-4496-aee1-1e7ec250943b",
   "metadata": {},
   "outputs": [],
   "source": [
    "numeric_cols.groupby('Pclass').mean()['Age']"
   ]
  },
  {
   "cell_type": "code",
   "execution_count": null,
   "id": "1b17c48b-eb6c-4b0c-bfff-e1cd8397c3a2",
   "metadata": {},
   "outputs": [],
   "source": [
    "pd.pivot_table(df2, index='Survived', columns='Pclass', values='Age')"
   ]
  },
  {
   "cell_type": "code",
   "execution_count": null,
   "id": "815d4746-20c1-4b73-acd3-957a0bb849a4",
   "metadata": {},
   "outputs": [],
   "source": [
    "pd.pivot_table(df2, index='Survived', columns='Pclass',values='Age', aggfunc=max)"
   ]
  },
  {
   "cell_type": "code",
   "execution_count": null,
   "id": "3cbdbb3e-7cc0-4451-8930-fcdf3edd9b54",
   "metadata": {},
   "outputs": [],
   "source": [
    "is_null=df2['Age'].isnull()\n",
    "\n",
    "df2.loc[(df['Pclass']==1)&(df['Survived']==0)&(is_null),'Age']=43\n",
    "df2.loc[(df['Pclass']==1)&(df['Survived']==1)&(is_null),'Age']=35\n",
    "df2.loc[(df['Pclass']==2)&(df['Survived']==0)&(is_null),'Age']=33\n",
    "df2.loc[(df['Pclass']==2)&(df['Survived']==1)&(is_null),'Age']=25\n",
    "df2.loc[(df['Pclass']==3)&(df['Survived']==0)&(is_null),'Age']=26\n",
    "df2.loc[(df['Pclass']==3)&(df['Survived']==1)&(is_null),'Age']=20"
   ]
  },
  {
   "cell_type": "code",
   "execution_count": null,
   "id": "8f27685e-e4db-456a-9acd-5e770a8dcee3",
   "metadata": {},
   "outputs": [],
   "source": [
    "col=['Pclass','Age','SibSp','Parch','Fare']\n",
    "x=df2[col]\n",
    "t=df2['Survived']\n",
    "\n",
    "for j in range(1,10):\n",
    "    train_score,test_score,model=learn(x,t,depth=j)\n",
    "    sentence='scoreデータの正解率は{}'\n",
    "    sentence2='testデータの正解率は{}'\n",
    "    total_sentence='木の深さは{}'+sentence+sentence2\n",
    "    print(total_sentence.format(j,train_score,test_score))"
   ]
  },
  {
   "cell_type": "code",
   "execution_count": null,
   "id": "92851cfd-4c0e-4405-9235-3d62c532ec8c",
   "metadata": {},
   "outputs": [],
   "source": [
    "numeric_cols['Sex']=df2['Sex']\n",
    "sex=numeric_cols.groupby('Sex').mean()\n",
    "sex['Survived']\n"
   ]
  },
  {
   "cell_type": "code",
   "execution_count": null,
   "id": "005444c9-2b3d-4f2b-9fe1-fd7f56289088",
   "metadata": {},
   "outputs": [],
   "source": [
    "sex['Survived'].plot(kind='bar')"
   ]
  },
  {
   "cell_type": "code",
   "execution_count": null,
   "id": "0b8c697a-2b26-4a03-98cd-35d95e6ef744",
   "metadata": {},
   "outputs": [],
   "source": [
    "male=pd.get_dummies(df2['Sex'],drop_first=True)\n",
    "male\n"
   ]
  },
  {
   "cell_type": "code",
   "execution_count": null,
   "id": "ef945d7a-285f-47ee-9938-a297b23a563e",
   "metadata": {},
   "outputs": [],
   "source": [
    "pd.get_dummies(df2['Embarked'],drop_first=True)\n",
    "x_temp=pd.concat([x,male],axis=1)\n",
    "\n",
    "x_temp.head(2)\n"
   ]
  },
  {
   "cell_type": "code",
   "execution_count": null,
   "id": "ab6e9a33-e132-4255-bb9c-f95c98ea3305",
   "metadata": {},
   "outputs": [],
   "source": [
    "male=pd.get_dummies(df2['Sex'],drop_first=True,dtype=int)\n",
    "male"
   ]
  },
  {
   "cell_type": "code",
   "execution_count": null,
   "id": "c3ee6164-cef1-4e1b-807b-53ec71d8a2ff",
   "metadata": {},
   "outputs": [],
   "source": [
    "col=['Pclass','Age','SibSp','Parch','Fare','Sex']\n",
    "x=df2[col]\n",
    "x_temp=pd.concat([x,male],axis=1)\n",
    "x_temp.head(2)"
   ]
  },
  {
   "cell_type": "code",
   "execution_count": null,
   "id": "1fd1aec4-bc07-4ac6-b214-c0ea2c700d19",
   "metadata": {},
   "outputs": [],
   "source": [
    "x_new=x_temp.drop('Sex',axis=1)\n",
    "x_new"
   ]
  },
  {
   "cell_type": "code",
   "execution_count": null,
   "id": "4b47cc38-754c-4e4a-9a7c-13218b6cd247",
   "metadata": {},
   "outputs": [],
   "source": [
    "for j in range(1,6):\n",
    "    s1,s2,m=learn(x_new,t,depth=j)\n",
    "    s='深さ{}:訓練データの精度{}::テストデータの精度{}'\n",
    "    print(s.format(j,s1,s2))"
   ]
  },
  {
   "cell_type": "code",
   "execution_count": null,
   "id": "a28baa0b-5f2f-414e-8b9c-5b2eb48c2fcd",
   "metadata": {},
   "outputs": [],
   "source": [
    "m.feature_importances_"
   ]
  },
  {
   "cell_type": "code",
   "execution_count": null,
   "id": "948ebf30-ef97-46fd-843a-736c5c12ae8b",
   "metadata": {},
   "outputs": [],
   "source": [
    "s1,s2,s3=learn(x_new,t,depth=5)\n",
    "\n",
    "import pickle\n",
    "with open ('survived.pkl','wb') as f:\n",
    "    pickle.dump(model,f)"
   ]
  },
  {
   "cell_type": "code",
   "execution_count": null,
   "id": "d99cba40-c7d1-4aab-adb9-85cfb9daf7f3",
   "metadata": {},
   "outputs": [],
   "source": [
    "pd.DataFrame(m.feature_importances_, index=x_new.columns)"
   ]
  },
  {
   "cell_type": "code",
   "execution_count": null,
   "id": "aeacd415-c551-469d-895c-21ed93da836f",
   "metadata": {},
   "outputs": [],
   "source": []
  }
 ],
 "metadata": {
  "kernelspec": {
   "display_name": "Python 3 (ipykernel)",
   "language": "python",
   "name": "python3"
  },
  "language_info": {
   "codemirror_mode": {
    "name": "ipython",
    "version": 3
   },
   "file_extension": ".py",
   "mimetype": "text/x-python",
   "name": "python",
   "nbconvert_exporter": "python",
   "pygments_lexer": "ipython3",
   "version": "3.12.4"
  }
 },
 "nbformat": 4,
 "nbformat_minor": 5
}
